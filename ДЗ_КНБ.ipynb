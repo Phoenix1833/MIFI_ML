{
  "nbformat": 4,
  "nbformat_minor": 0,
  "metadata": {
    "colab": {
      "provenance": []
    },
    "kernelspec": {
      "name": "python3",
      "display_name": "Python 3"
    },
    "language_info": {
      "name": "python"
    }
  },
  "cells": [
    {
      "cell_type": "code",
      "execution_count": null,
      "metadata": {
        "id": "MXXTuy_o0sjk"
      },
      "outputs": [],
      "source": [
        "!pip install -q -U kaggle_environments"
      ]
    },
    {
      "cell_type": "code",
      "source": [
        "import random\n",
        "from kaggle_environments import make, evaluate\n"
      ],
      "metadata": {
        "id": "yz23vWHD0wcj"
      },
      "execution_count": null,
      "outputs": []
    },
    {
      "cell_type": "markdown",
      "source": [
        "# Добавляем агентов"
      ],
      "metadata": {
        "id": "x6EiBm3Kw5wH"
      }
    },
    {
      "cell_type": "markdown",
      "source": [
        "#1. Выбирает случайное действие: 0 (камень), 1 (бумага) или 2 (ножницы)."
      ],
      "metadata": {
        "id": "Pq4J6E0--zYd"
      }
    },
    {
      "cell_type": "code",
      "source": [
        "class Random_agent:\n",
        "   def __call__(self, observation, configuration):\n",
        "    return random.randint(0, 2)\n"
      ],
      "metadata": {
        "id": "421nyUHWxFFd"
      },
      "execution_count": null,
      "outputs": []
    },
    {
      "cell_type": "markdown",
      "source": [
        "#2. Показываем всегда камень"
      ],
      "metadata": {
        "id": "wMGDpNfN-wcj"
      }
    },
    {
      "cell_type": "code",
      "source": [
        "class Rock_agent:\n",
        "   def __call__(self, observation, configuration):\n",
        "    return 0"
      ],
      "metadata": {
        "colab": {
          "base_uri": "https://localhost:8080/"
        },
        "id": "1zZd8e5v-qJO",
        "outputId": "3234ef97-97b1-4000-b521-5755e2727478"
      },
      "execution_count": null,
      "outputs": [
        {
          "output_type": "stream",
          "name": "stderr",
          "text": [
            "/usr/local/lib/python3.10/dist-packages/ipykernel/ipkernel.py:283: DeprecationWarning: `should_run_async` will not call `transform_cell` automatically in the future. Please pass the result to `transformed_cell` argument and any exception that happen during thetransform in `preprocessing_exc_tuple` in IPython 7.17 and above.\n",
            "  and should_run_async(code)\n"
          ]
        }
      ]
    },
    {
      "cell_type": "markdown",
      "source": [
        "#3. Показываем всегда бумагу"
      ],
      "metadata": {
        "id": "5t53F8rv-j3i"
      }
    },
    {
      "cell_type": "code",
      "source": [
        "class Paper_agent:\n",
        "   def __call__(self, observation, configuration):\n",
        "    return 1\n"
      ],
      "metadata": {
        "id": "s6kEoYLK-h0-"
      },
      "execution_count": null,
      "outputs": []
    },
    {
      "cell_type": "markdown",
      "source": [
        "#4. Показываем всегда ножницы"
      ],
      "metadata": {
        "id": "DWBnF_4Y-cmk"
      }
    },
    {
      "cell_type": "code",
      "source": [
        "class Scissors_agent:\n",
        "   def __call__(self, observation, configuration):\n",
        "    return 2"
      ],
      "metadata": {
        "id": "ESmVSrX4-anA"
      },
      "execution_count": null,
      "outputs": []
    },
    {
      "cell_type": "markdown",
      "source": [
        "#5. Копирует ход противника\n",
        "Агент повторяет ход противника, если это не первый ход.\n",
        "В первом раунде выбирает случайно."
      ],
      "metadata": {
        "id": "1IibbsvT-Sru"
      }
    },
    {
      "cell_type": "code",
      "source": [
        "class Copy_opponent_agent:\n",
        "   def __call__(self, observation, configuration):\n",
        "     #Если первый ход - выбираем случайно\n",
        "    if observation.step == 0:\n",
        "      return random.randint(0, 2)\n",
        "    #Выбираем последнее действие противника\n",
        "    return observation.lastOpponentAction"
      ],
      "metadata": {
        "id": "gg4SJ8rw-Pcr"
      },
      "execution_count": null,
      "outputs": []
    },
    {
      "cell_type": "markdown",
      "source": [
        "#6. Играет против последнего хода противника\n",
        "Агент выбирает действие, побеждающее последний ход противника. В первом раунде выбирает случайно."
      ],
      "metadata": {
        "id": "CUx78U4P-GrQ"
      }
    },
    {
      "cell_type": "code",
      "source": [
        "class Counter_opponent_agent:\n",
        "   def __call__(self, observation, configuration):\n",
        "     #Если первый ход - выбираем случайно\n",
        "    if observation.step == 0:\n",
        "        return random.randint(0, 2)\n",
        "    return (observation.lastOpponentAction + 1) % 3"
      ],
      "metadata": {
        "id": "cNaHUwIo-C3D"
      },
      "execution_count": null,
      "outputs": []
    },
    {
      "cell_type": "markdown",
      "source": [
        "# 7. Выбирает наиболее частый ход противника\n",
        "Агент анализирует прошлые ходы противника и выбирает ход, побеждающий наиболее частый ход противника."
      ],
      "metadata": {
        "id": "o5Yz1W4D5npG"
      }
    },
    {
      "cell_type": "code",
      "source": [
        "class Frequency_counter_agent:\n",
        "    def __init__(self):\n",
        "      # инициализируем переменную для хранения статистики\n",
        "        self.lastOpponentActions = []\n",
        "\n",
        "    def __call__ (self, observation, configuration):\n",
        "      #Если первый ход - выбираем случайно\n",
        "      if observation.step == 0:\n",
        "        return random.randint(0, 2)\n",
        "\n",
        "      #Запоминаем все предыдущие шаги\n",
        "      if observation.step > 0:\n",
        "        self.lastOpponentActions.append(observation.lastOpponentAction)\n",
        "\n",
        "      counts = [0, 0, 0]\n",
        "\n",
        "      for action in self.lastOpponentActions:\n",
        "       #Считаем предыдущие ходы противника\n",
        "        counts[action] += 1\n",
        "      #Находим наиболее частый и выбираем ход который его победил бы\n",
        "      most_frequent = counts.index(max(counts))\n",
        "      return (most_frequent + 1) % 3\n"
      ],
      "metadata": {
        "id": "xfhD_cUH5khL"
      },
      "execution_count": null,
      "outputs": []
    },
    {
      "cell_type": "markdown",
      "source": [
        "# 8. Случайный со смещением\n",
        " Агент с вероятностью 70% выбирает случайный ход и с вероятностью 30%, меняет стратегию на выигрышный ответ против последнего хода.\n",
        "    "
      ],
      "metadata": {
        "id": "AgGeiy675Eyc"
      }
    },
    {
      "cell_type": "code",
      "source": [
        "class Random_shift_agent:\n",
        "   def __call__(self, observation, configuration):\n",
        "    if random.random() < 0.7:\n",
        "        return random.randint(0, 2)\n",
        "    if observation.step == 0:\n",
        "        return random.randint(0, 2)\n",
        "    return (observation.lastOpponentAction + 1) % 3"
      ],
      "metadata": {
        "id": "PcQrd-ek5BLZ"
      },
      "execution_count": null,
      "outputs": []
    },
    {
      "cell_type": "markdown",
      "source": [
        "# 9. Цикл\n",
        "Агент циклически меняет свои действия: камень -> ножницы -> бумага."
      ],
      "metadata": {
        "id": "lUYgTuW_4y7m"
      }
    },
    {
      "cell_type": "code",
      "source": [
        "class Cycle_agent:\n",
        "   def __call__(self, observation, configuration):\n",
        "    return observation.step % 3"
      ],
      "metadata": {
        "id": "ltIXpBnE4w13"
      },
      "execution_count": null,
      "outputs": []
    },
    {
      "cell_type": "markdown",
      "source": [
        "#10. Зеркало\n",
        "\n",
        "Агент повторяет ход противника из предыдущего раунда. Если первый раунд — выбирает случайно."
      ],
      "metadata": {
        "id": "MEO_t91U3V5b"
      }
    },
    {
      "cell_type": "code",
      "source": [
        "class Mirror_agent:\n",
        "   def __call__(self, observation, configuration):\n",
        "  #Если первый ход - выбираем случайно\n",
        "    if observation.step == 0:\n",
        "        return random.randint(0, 2)\n",
        "        #Повторяем последний ход противника\n",
        "    return observation.lastOpponentAction\n",
        "\n"
      ],
      "metadata": {
        "id": "IHBSNp3t3TDr"
      },
      "execution_count": null,
      "outputs": []
    },
    {
      "cell_type": "markdown",
      "source": [
        "# 11. Анализ тенденций\n",
        "Агент анализирует последние 5 ходов противника и пытается предугадать следующий ход."
      ],
      "metadata": {
        "id": "k0anamu93Hzd"
      }
    },
    {
      "cell_type": "code",
      "source": [
        "class Trend_analyzer_agent:\n",
        "    def __init__(self):\n",
        "      # инициализируем переменную для хранения статистики\n",
        "        self.lastOpponentActions = []\n",
        "\n",
        "    def __call__(self, observation, configuration):\n",
        "      if observation.step == 0:\n",
        "        return random.randint(0, 2)\n",
        "      # Добавляем последний ход противника в историю\n",
        "      if observation.step > 0:\n",
        "        self.lastOpponentActions.append(observation.lastOpponentAction)\n",
        "\n",
        "      last_five = self.lastOpponentActions[-5:]\n",
        "      #Если было меньше 5 ходов - выбираем случайно\n",
        "      if len(last_five) < 5:\n",
        "        return random.randint(0, 2)\n",
        "      #Пытаемся вычислить тренд\n",
        "      trend = sum((a - b) for a, b in zip(last_five[1:], last_five[:-1]))\n",
        "      predicted = (observation.lastOpponentAction + (1 if trend > 0 else -1)) % 3\n",
        "      return (predicted + 1) % 3"
      ],
      "metadata": {
        "id": "f0qTkK4k3GQ6"
      },
      "execution_count": null,
      "outputs": []
    },
    {
      "cell_type": "markdown",
      "source": [
        "# 12. Агрессивный\n",
        "Агент чаще всего выбирает бумагу (например, 70% времени), но изредка меняет выбор на камень или ножницы."
      ],
      "metadata": {
        "id": "rrPcssal28nU"
      }
    },
    {
      "cell_type": "code",
      "source": [
        "class Aggressive_agent:\n",
        "  def __call__(self, observation, configuration):\n",
        "    probabilities = [0.2, 0.7, 0.1]  # Вероятности для камня, бумаги и ножниц\n",
        "    return random.choices([0, 1, 2], weights=probabilities, k=1)[0]"
      ],
      "metadata": {
        "id": "1BkGP38G26wX"
      },
      "execution_count": null,
      "outputs": []
    },
    {
      "cell_type": "markdown",
      "source": [
        "#13. Реактивный\n",
        "Пытается предугадать следующий ход противника на основе частоты действий за последние раунды. Агент анализирует частоту действий противника за последние 5 раундов и выбирает ход, который побеждает наиболее частый выбор."
      ],
      "metadata": {
        "id": "UexYfR0z2xTz"
      }
    },
    {
      "cell_type": "code",
      "source": [
        "class Reactive_agent:\n",
        "    def __init__(self):\n",
        "      # инициализируем переменную для хранения статистики\n",
        "        self.lastOpponentActions = []\n",
        "    def __call__(self, observation, configuration):\n",
        "      if observation.step == 0:\n",
        "        return random.randint(0, 2)\n",
        "\n",
        "      # Добавляем последний ход противника в историю\n",
        "      if observation.step > 0:\n",
        "        self.lastOpponentActions.append(observation.lastOpponentAction)\n",
        "\n",
        "      counts = [0, 0, 0]\n",
        "      recent_actions = self.lastOpponentActions[-5:]  # Последние 5 действий\n",
        "      for action in recent_actions:\n",
        "          counts[action] += 1\n",
        "      most_frequent = counts.index(max(counts))\n",
        "      return (most_frequent + 1) % 3"
      ],
      "metadata": {
        "id": "Qw_zh51O2pbf"
      },
      "execution_count": null,
      "outputs": []
    },
    {
      "cell_type": "markdown",
      "source": [
        "#14. Адаптивный\n",
        "Анализирует, как противник реагирует на его действия, и адаптируется, чтобы выиграть чаще.\n",
        "Агент анализирует, как противник реагирует на его действия, и пытается адаптироваться. Использует стратегию на основе прошлых раундов, чтобы предсказать следующий ход."
      ],
      "metadata": {
        "id": "MPsBpV402cej"
      }
    },
    {
      "cell_type": "code",
      "source": [
        "class Adaptive_agent:\n",
        "    def __init__(self):\n",
        "      # инициализируем переменную для хранения статистики\n",
        "        self.lastOpponentActions = []\n",
        "    def __call__(self, observation, configuration):\n",
        "      if observation.step == 0:\n",
        "        return random.randint(0, 2)\n",
        "\n",
        "      # Добавляем последний ход противника в историю\n",
        "      if observation.step > 0:\n",
        "        self.lastOpponentActions.append(observation.lastOpponentAction)\n",
        "\n",
        "    # Сохраняем историю своих действий и действий противника\n",
        "      my_last_action = self.lastOpponentActions[-1] if observation.step > 1 else random.randint(0, 2)\n",
        "      opponent_reaction = observation.lastOpponentAction\n",
        "\n",
        "    # Если противник часто побеждает, меняем свою стратегию\n",
        "      if opponent_reaction == (my_last_action + 1) % 3:\n",
        "          return (my_last_action + 2) % 3\n",
        "      return (opponent_reaction + 1) % 3"
      ],
      "metadata": {
        "id": "kLE7Q3K_2aq2"
      },
      "execution_count": null,
      "outputs": []
    },
    {
      "cell_type": "markdown",
      "source": [
        "# Инциализируем среду и агентов\n"
      ],
      "metadata": {
        "id": "hxgyS6XOxWD_"
      }
    },
    {
      "cell_type": "code",
      "source": [
        "# Инициализация среды\n",
        "env = make(\"rps\", configuration={\"episodeSteps\": 100}, debug=True)\n",
        "\n",
        "# Список агентов\n",
        "agents = {\n",
        "    \"Random\": Random_agent(),\n",
        "    \"Rock\": Rock_agent(),\n",
        "    \"Paper\": Paper_agent(),\n",
        "    \"Scissors\": Scissors_agent(),\n",
        "    \"CopyOpponent\": Copy_opponent_agent(),\n",
        "    \"CounterOpponent\": Counter_opponent_agent(),\n",
        "    \"FrequencyCounter\": Frequency_counter_agent(),\n",
        "    \"RandomShift\": Random_shift_agent(),\n",
        "    \"Cycle\": Cycle_agent(),\n",
        "    \"Mirror\": Mirror_agent(),\n",
        "    \"TrendAnalyzer\": Trend_analyzer_agent(),\n",
        "    \"Aggressive\": Aggressive_agent(),\n",
        "    \"Reactive\": Reactive_agent(),\n",
        "    \"Adaptive\": Adaptive_agent(),\n",
        "}"
      ],
      "metadata": {
        "id": "viNytBdkxZ0y"
      },
      "execution_count": null,
      "outputs": []
    },
    {
      "cell_type": "markdown",
      "source": [
        "#Функция запуска турнира и подсчета очков\n",
        "\n",
        "Если агент выиграл даём 2 очка, если ничья то каждому 1 очко, в остальном 0"
      ],
      "metadata": {
        "id": "qTila6mgKdj1"
      }
    },
    {
      "cell_type": "code",
      "source": [
        "# Функция для запуска турнира\n",
        "def run_tournament(agents):\n",
        "    scores = {agent: 0 for agent in agents.keys()}\n",
        "    agent_names = list(agents.keys())\n",
        "\n",
        "    for i, agent1_name in enumerate(agent_names):\n",
        "        for agent2_name in agent_names[i+1:]:\n",
        "            # Запускаем игру между двумя агентами\n",
        "            result = env.run([agents[agent1_name], agents[agent2_name]])\n",
        "            rewards = [result[0][0][\"reward\"], result[-1][1][\"reward\"]]\n",
        "\n",
        "                # Обновляем очки\n",
        "            if rewards[0] > rewards[1]:\n",
        "              scores[agent1_name] += 2\n",
        "            elif rewards[0] < rewards[1]:\n",
        "              scores[agent2_name] += 2\n",
        "            else:\n",
        "              scores[agent1_name] += 1\n",
        "              scores[agent2_name] += 1\n",
        "\n",
        "    return scores\n",
        "\n",
        "    # Запуск турнира\n",
        "tournament_scores = run_tournament(agents)\n"
      ],
      "metadata": {
        "id": "bJ-Bk1-ZyYQu"
      },
      "execution_count": null,
      "outputs": []
    },
    {
      "cell_type": "markdown",
      "source": [
        "#Вывод результатов\n"
      ],
      "metadata": {
        "id": "7MoaDPEBK-7z"
      }
    },
    {
      "cell_type": "code",
      "source": [
        "scoresTable = sorted(tournament_scores.items(), key=lambda x: -x[1])\n",
        "\n",
        "# Вывод результатов\n",
        "print(\"Результаты турнира:\")\n",
        "for agent, score in scoresTable:\n",
        "    print(f\"{agent}: {score} очков\")\n",
        "\n",
        "print(\"============================\", f\"Результативная стратегия: {scoresTable[0][0]}\", sep=\"\\n\")"
      ],
      "metadata": {
        "colab": {
          "base_uri": "https://localhost:8080/"
        },
        "id": "U_689E45LBV6",
        "outputId": "7b8f77b2-2ae4-4e40-999d-a3a607517ae7"
      },
      "execution_count": null,
      "outputs": [
        {
          "output_type": "stream",
          "name": "stdout",
          "text": [
            "Результаты турнира:\n",
            "Adaptive: 22 очков\n",
            "CounterOpponent: 19 очков\n",
            "RandomShift: 17 очков\n",
            "Reactive: 17 очков\n",
            "Cycle: 15 очков\n",
            "Random: 13 очков\n",
            "FrequencyCounter: 12 очков\n",
            "Mirror: 11 очков\n",
            "Scissors: 10 очков\n",
            "TrendAnalyzer: 10 очков\n",
            "Aggressive: 10 очков\n",
            "Paper: 9 очков\n",
            "CopyOpponent: 9 очков\n",
            "Rock: 8 очков\n",
            "============================\n",
            "Результативная стратегия: Adaptive\n"
          ]
        }
      ]
    }
  ]
}
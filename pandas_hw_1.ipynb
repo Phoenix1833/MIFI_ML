{
 "cells": [
  {
   "cell_type": "markdown",
   "id": "29230eb4cf3e7e1d",
   "metadata": {},
   "source": [
    "Для работы с большим файлом, установим библиотеку"
   ]
  },
  {
   "cell_type": "code",
   "execution_count": 1,
   "id": "f3155e24c02fd8bb",
   "metadata": {
    "ExecuteTime": {
     "end_time": "2024-10-09T21:51:14.354172Z",
     "start_time": "2024-10-09T21:51:02.538394Z"
    }
   },
   "outputs": [
    {
     "name": "stdout",
     "output_type": "stream",
     "text": [
      "Defaulting to user installation because normal site-packages is not writeable\n",
      "Requirement already satisfied: polars in /home/phoenix/.local/lib/python3.10/site-packages (1.15.0)\n",
      "\u001b[33mDEPRECATION: nomeroff-net 3.1.1 has a non-standard dependency specifier numpy>=1.16.*. pip 24.0 will enforce this behaviour change. A possible replacement is to upgrade to a newer version of nomeroff-net or contact the author to suggest that they release a version with a conforming dependency specifiers. Discussion can be found at https://github.com/pypa/pip/issues/12063\u001b[0m\u001b[33m\n",
      "\u001b[0m\u001b[33mDEPRECATION: nomeroff-net 3.1.1 has a non-standard dependency specifier imgaug>=0.4.*. pip 24.0 will enforce this behaviour change. A possible replacement is to upgrade to a newer version of nomeroff-net or contact the author to suggest that they release a version with a conforming dependency specifiers. Discussion can be found at https://github.com/pypa/pip/issues/12063\u001b[0m\u001b[33m\n",
      "\u001b[0m\n",
      "\u001b[1m[\u001b[0m\u001b[34;49mnotice\u001b[0m\u001b[1;39;49m]\u001b[0m\u001b[39;49m A new release of pip is available: \u001b[0m\u001b[31;49m23.3.2\u001b[0m\u001b[39;49m -> \u001b[0m\u001b[32;49m24.3.1\u001b[0m\n",
      "\u001b[1m[\u001b[0m\u001b[34;49mnotice\u001b[0m\u001b[1;39;49m]\u001b[0m\u001b[39;49m To update, run: \u001b[0m\u001b[32;49mpip install --upgrade pip\u001b[0m\n"
     ]
    }
   ],
   "source": [
    "!pip install polars\n"
   ]
  },
  {
   "cell_type": "code",
   "execution_count": 2,
   "id": "39626193",
   "metadata": {},
   "outputs": [
    {
     "name": "stdout",
     "output_type": "stream",
     "text": [
      "Defaulting to user installation because normal site-packages is not writeable\n",
      "Requirement already satisfied: plotly in /home/phoenix/.local/lib/python3.10/site-packages (5.24.1)\n",
      "Requirement already satisfied: tenacity>=6.2.0 in /home/phoenix/.local/lib/python3.10/site-packages (from plotly) (9.0.0)\n",
      "Requirement already satisfied: packaging in /home/phoenix/.local/lib/python3.10/site-packages (from plotly) (23.0)\n",
      "\u001b[33mDEPRECATION: nomeroff-net 3.1.1 has a non-standard dependency specifier numpy>=1.16.*. pip 24.0 will enforce this behaviour change. A possible replacement is to upgrade to a newer version of nomeroff-net or contact the author to suggest that they release a version with a conforming dependency specifiers. Discussion can be found at https://github.com/pypa/pip/issues/12063\u001b[0m\u001b[33m\n",
      "\u001b[0m\u001b[33mDEPRECATION: nomeroff-net 3.1.1 has a non-standard dependency specifier imgaug>=0.4.*. pip 24.0 will enforce this behaviour change. A possible replacement is to upgrade to a newer version of nomeroff-net or contact the author to suggest that they release a version with a conforming dependency specifiers. Discussion can be found at https://github.com/pypa/pip/issues/12063\u001b[0m\u001b[33m\n",
      "\u001b[0m\n",
      "\u001b[1m[\u001b[0m\u001b[34;49mnotice\u001b[0m\u001b[1;39;49m]\u001b[0m\u001b[39;49m A new release of pip is available: \u001b[0m\u001b[31;49m23.3.2\u001b[0m\u001b[39;49m -> \u001b[0m\u001b[32;49m24.3.1\u001b[0m\n",
      "\u001b[1m[\u001b[0m\u001b[34;49mnotice\u001b[0m\u001b[1;39;49m]\u001b[0m\u001b[39;49m To update, run: \u001b[0m\u001b[32;49mpip install --upgrade pip\u001b[0m\n"
     ]
    }
   ],
   "source": [
    "!pip install plotly"
   ]
  },
  {
   "cell_type": "markdown",
   "id": "a42dff22bad06c22",
   "metadata": {},
   "source": [
    "Импортируем необходимые библиотеки."
   ]
  },
  {
   "cell_type": "code",
   "execution_count": 3,
   "id": "initial_id",
   "metadata": {
    "ExecuteTime": {
     "end_time": "2024-10-09T21:51:24.220504Z",
     "start_time": "2024-10-09T21:51:18.573106Z"
    },
    "collapsed": true
   },
   "outputs": [
    {
     "name": "stdout",
     "output_type": "stream",
     "text": [
      "GOST engine already loaded\n"
     ]
    },
    {
     "data": {
      "text/plain": [
       "<polars.config.Config at 0x768938897940>"
      ]
     },
     "execution_count": 3,
     "metadata": {},
     "output_type": "execute_result"
    }
   ],
   "source": [
    "import polars as pl\n",
    "import plotly.express as px\n",
    "\n",
    "pl.Config(tbl_cols=-1, tbl_rows=10)"
   ]
  },
  {
   "attachments": {},
   "cell_type": "markdown",
   "id": "4e3d8015",
   "metadata": {},
   "source": [
    "Добавим данные в объекты Polaris"
   ]
  },
  {
   "cell_type": "code",
   "execution_count": 4,
   "id": "82b75ab8e97ccb78",
   "metadata": {
    "ExecuteTime": {
     "end_time": "2024-10-09T21:51:26.313568Z",
     "start_time": "2024-10-09T21:51:26.308184Z"
    }
   },
   "outputs": [],
   "source": [
    "train_data = pl.scan_csv('data/train.csv')\n",
    "lectures_data = pl.scan_csv('data/lectures.csv')\n",
    "questions_data = pl.scan_csv('data/questions.csv')"
   ]
  },
  {
   "attachments": {},
   "cell_type": "markdown",
   "id": "8588abf7dea7ceda",
   "metadata": {},
   "source": [
    "Посмотрим первые 5 строк каждого файла для оценки данных"
   ]
  },
  {
   "cell_type": "code",
   "execution_count": 5,
   "id": "e4d97cd4b59a38f3",
   "metadata": {
    "ExecuteTime": {
     "end_time": "2024-10-07T21:26:59.783929Z",
     "start_time": "2024-10-07T21:26:59.756499Z"
    }
   },
   "outputs": [
    {
     "name": "stdout",
     "output_type": "stream",
     "text": [
      "TRAIN\n",
      "shape: (5, 10)\n",
      "┌─────────┬─────────┬─────────┬─────────┬─────────┬─────────┬─────────┬─────────┬─────────┬────────┐\n",
      "│ row_id  ┆ timesta ┆ user_id ┆ content ┆ content ┆ task_co ┆ user_an ┆ answere ┆ prior_q ┆ prior_ │\n",
      "│ ---     ┆ mp      ┆ ---     ┆ _id     ┆ _type_i ┆ ntainer ┆ swer    ┆ d_corre ┆ uestion ┆ questi │\n",
      "│ i64     ┆ ---     ┆ i64     ┆ ---     ┆ d       ┆ _id     ┆ ---     ┆ ctly    ┆ _elapse ┆ on_had │\n",
      "│         ┆ i64     ┆         ┆ i64     ┆ ---     ┆ ---     ┆ i64     ┆ ---     ┆ d_time  ┆ _expla │\n",
      "│         ┆         ┆         ┆         ┆ i64     ┆ i64     ┆         ┆ i64     ┆ ---     ┆ nation │\n",
      "│         ┆         ┆         ┆         ┆         ┆         ┆         ┆         ┆ f64     ┆ ---    │\n",
      "│         ┆         ┆         ┆         ┆         ┆         ┆         ┆         ┆         ┆ bool   │\n",
      "╞═════════╪═════════╪═════════╪═════════╪═════════╪═════════╪═════════╪═════════╪═════════╪════════╡\n",
      "│ 1012303 ┆ 4285644 ┆ 2147482 ┆ 3586    ┆ 0       ┆ 22      ┆ 0       ┆ 1       ┆ 18000.0 ┆ true   │\n",
      "│ 27      ┆ 20      ┆ 888     ┆         ┆         ┆         ┆         ┆         ┆         ┆        │\n",
      "│ 1012303 ┆ 4285850 ┆ 2147482 ┆ 6341    ┆ 0       ┆ 23      ┆ 3       ┆ 1       ┆ 14000.0 ┆ true   │\n",
      "│ 28      ┆ 00      ┆ 888     ┆         ┆         ┆         ┆         ┆         ┆         ┆        │\n",
      "│ 1012303 ┆ 4286134 ┆ 2147482 ┆ 4212    ┆ 0       ┆ 24      ┆ 3       ┆ 1       ┆ 14000.0 ┆ true   │\n",
      "│ 29      ┆ 75      ┆ 888     ┆         ┆         ┆         ┆         ┆         ┆         ┆        │\n",
      "│ 1012303 ┆ 4286494 ┆ 2147482 ┆ 6343    ┆ 0       ┆ 25      ┆ 1       ┆ 0       ┆ 22000.0 ┆ true   │\n",
      "│ 30      ┆ 06      ┆ 888     ┆         ┆         ┆         ┆         ┆         ┆         ┆        │\n",
      "│ 1012303 ┆ 4286921 ┆ 2147482 ┆ 7995    ┆ 0       ┆ 26      ┆ 3       ┆ 1       ┆ 29000.0 ┆ true   │\n",
      "│ 31      ┆ 18      ┆ 888     ┆         ┆         ┆         ┆         ┆         ┆         ┆        │\n",
      "└─────────┴─────────┴─────────┴─────────┴─────────┴─────────┴─────────┴─────────┴─────────┴────────┘\n",
      "Lectures\n",
      "shape: (5, 4)\n",
      "┌────────────┬─────┬──────┬──────────────────┐\n",
      "│ lecture_id ┆ tag ┆ part ┆ type_of          │\n",
      "│ ---        ┆ --- ┆ ---  ┆ ---              │\n",
      "│ i64        ┆ i64 ┆ i64  ┆ str              │\n",
      "╞════════════╪═════╪══════╪══════════════════╡\n",
      "│ 89         ┆ 159 ┆ 5    ┆ concept          │\n",
      "│ 100        ┆ 70  ┆ 1    ┆ concept          │\n",
      "│ 185        ┆ 45  ┆ 6    ┆ concept          │\n",
      "│ 192        ┆ 79  ┆ 5    ┆ solving question │\n",
      "│ 317        ┆ 156 ┆ 5    ┆ solving question │\n",
      "└────────────┴─────┴──────┴──────────────────┘\n",
      "Questions\n",
      "shape: (5, 5)\n",
      "┌─────────────┬───────────┬────────────────┬──────┬────────────────┐\n",
      "│ question_id ┆ bundle_id ┆ correct_answer ┆ part ┆ tags           │\n",
      "│ ---         ┆ ---       ┆ ---            ┆ ---  ┆ ---            │\n",
      "│ i64         ┆ i64       ┆ i64            ┆ i64  ┆ str            │\n",
      "╞═════════════╪═══════════╪════════════════╪══════╪════════════════╡\n",
      "│ 0           ┆ 0         ┆ 0              ┆ 1    ┆ 51 131 162 38  │\n",
      "│ 1           ┆ 1         ┆ 1              ┆ 1    ┆ 131 36 81      │\n",
      "│ 2           ┆ 2         ┆ 0              ┆ 1    ┆ 131 101 162 92 │\n",
      "│ 3           ┆ 3         ┆ 0              ┆ 1    ┆ 131 149 162 29 │\n",
      "│ 4           ┆ 4         ┆ 3              ┆ 1    ┆ 131 5 162 38   │\n",
      "└─────────────┴───────────┴────────────────┴──────┴────────────────┘\n"
     ]
    }
   ],
   "source": [
    "train_head = train_data.tail(5).collect()\n",
    "lectures_head = lectures_data.head(5).collect()\n",
    "questions_head = questions_data.head(5).collect()\n",
    "\n",
    "print(\"TRAIN\", train_head, \"Lectures\", lectures_head, \"Questions\", questions_head, sep=\"\\n\")\n",
    "\n"
   ]
  },
  {
   "attachments": {},
   "cell_type": "markdown",
   "id": "371dbb2a",
   "metadata": {},
   "source": [
    "Посмотрим количество уникальных студентов, что бы оценить объем выборки"
   ]
  },
  {
   "cell_type": "code",
   "execution_count": 6,
   "id": "2164854a",
   "metadata": {},
   "outputs": [
    {
     "data": {
      "text/html": [
       "<div><style>\n",
       ".dataframe > thead > tr,\n",
       ".dataframe > tbody > tr {\n",
       "  text-align: right;\n",
       "  white-space: pre-wrap;\n",
       "}\n",
       "</style>\n",
       "<small>shape: (1, 1)</small><table border=\"1\" class=\"dataframe\"><thead><tr><th>Пользователи</th></tr><tr><td>u32</td></tr></thead><tbody><tr><td>393656</td></tr></tbody></table></div>"
      ],
      "text/plain": [
       "shape: (1, 1)\n",
       "┌──────────────┐\n",
       "│ Пользователи │\n",
       "│ ---          │\n",
       "│ u32          │\n",
       "╞══════════════╡\n",
       "│ 393656       │\n",
       "└──────────────┘"
      ]
     },
     "execution_count": 6,
     "metadata": {},
     "output_type": "execute_result"
    }
   ],
   "source": [
    "train_data.select(pl.col('user_id').alias('Пользователи')).unique().count().collect(streaming=True)"
   ]
  },
  {
   "attachments": {},
   "cell_type": "markdown",
   "id": "0edbdbd5",
   "metadata": {},
   "source": [
    "Посмотрим сколько в базе всего вопросов, и сколько уникальных вопросов в выборке со студентами. Сравним одно с другим"
   ]
  },
  {
   "cell_type": "code",
   "execution_count": 7,
   "id": "43b8f32b",
   "metadata": {},
   "outputs": [
    {
     "name": "stdout",
     "output_type": "stream",
     "text": [
      "Таблица вопросов 13523 \n",
      " Таблица ответов 13782 \n",
      " Сравним: False\n"
     ]
    }
   ],
   "source": [
    "qt = questions_data.select('question_id').count().collect()['question_id'][0]\n",
    "tt = train_data.select('content_id').unique().count().collect()['content_id'][0]\n",
    "\n",
    "print(f\"Таблица вопросов {qt} \\n Таблица ответов {tt} \\n Сравним: {tt == qt}\")"
   ]
  },
  {
   "attachments": {},
   "cell_type": "markdown",
   "id": "2377b210",
   "metadata": {},
   "source": [
    "Отличается. Сделаем выборку проходящих тестирование"
   ]
  },
  {
   "cell_type": "code",
   "execution_count": 74,
   "id": "12542359",
   "metadata": {},
   "outputs": [],
   "source": [
    "train_test = train_data.filter(\n",
    "        pl.col('content_type_id') == 0\n",
    "    )"
   ]
  },
  {
   "attachments": {},
   "cell_type": "markdown",
   "id": "c50812e7",
   "metadata": {},
   "source": [
    "Повторим проверку"
   ]
  },
  {
   "cell_type": "code",
   "execution_count": 9,
   "id": "e338fa23",
   "metadata": {},
   "outputs": [
    {
     "name": "stdout",
     "output_type": "stream",
     "text": [
      "Таблица вопросов 13523 \n",
      " Таблица ответов 13523 \n",
      " Сравним: True\n"
     ]
    }
   ],
   "source": [
    "qt = questions_data.select('question_id').count().collect()['question_id'][0]\n",
    "tt = train_test.select('content_id').unique().count().collect()['content_id'][0]\n",
    "\n",
    "print(f\"Таблица вопросов {qt} \\n Таблица ответов {tt} \\n Сравним: {tt == qt}\")"
   ]
  },
  {
   "attachments": {},
   "cell_type": "markdown",
   "id": "24070b40",
   "metadata": {},
   "source": [
    "Одинаково. Теперь попробуем вывести топ 10 студентов по отвеченным вопросам"
   ]
  },
  {
   "cell_type": "code",
   "execution_count": 77,
   "id": "0070af2c",
   "metadata": {},
   "outputs": [
    {
     "name": "stdout",
     "output_type": "stream",
     "text": [
      "shape: (10, 3)\n",
      "┌────────────┬──────────┬──────────────────────┐\n",
      "│ user_id    ┆ answered ┆ unique_content_count │\n",
      "│ ---        ┆ ---      ┆ ---                  │\n",
      "│ i64        ┆ u32      ┆ u32                  │\n",
      "╞════════════╪══════════╪══════════════════════╡\n",
      "│ 2139561972 ┆ 14300    ┆ 9227                 │\n",
      "│ 1615528747 ┆ 13678    ┆ 9245                 │\n",
      "│ 338684437  ┆ 13416    ┆ 8153                 │\n",
      "│ 1842816145 ┆ 13086    ┆ 7797                 │\n",
      "│ 1047202059 ┆ 13034    ┆ 7158                 │\n",
      "│ 455973631  ┆ 12840    ┆ 6360                 │\n",
      "│ 1478712595 ┆ 12840    ┆ 7689                 │\n",
      "│ 801103753  ┆ 12698    ┆ 7827                 │\n",
      "│ 1743444187 ┆ 12644    ┆ 8081                 │\n",
      "│ 2070068957 ┆ 12225    ┆ 9655                 │\n",
      "└────────────┴──────────┴──────────────────────┘\n"
     ]
    }
   ],
   "source": [
    "print (\n",
    "    train_test\n",
    "    .filter(pl.col(\"answered_correctly\") == 1)  # Фильтрация\n",
    "    .group_by(\"user_id\")  # Группировка\n",
    "    .agg([\n",
    "        pl.len().alias(\"answered\"),\n",
    "        pl.col(\"content_id\").n_unique().alias(\"unique_content_count\")\n",
    "    ])\n",
    "    .sort(\"answered\", descending=True)  # Сортировка\n",
    "    .limit(10)  # Ограничение\n",
    "    .collect(streaming=True) # Материализация LazyFrame в DataFrame\n",
    ")"
   ]
  },
  {
   "attachments": {},
   "cell_type": "markdown",
   "id": "89db4d7b",
   "metadata": {},
   "source": [
    "Замечаем, что количество ответов больше чем уникальных вопросов.\n",
    "Видно, что в действительности правильных уникальный ответов меньше в 1,54 раза, что явно смазывает картину успеваемости. \n",
    "\n",
    "Пытаемся выяснить в чём причина. Смотрим отдельно по студенту 2139561972.\n",
    "Считаем количество правильных ответов и группируем по id вопроса"
   ]
  },
  {
   "cell_type": "code",
   "execution_count": 75,
   "id": "1713b9a5",
   "metadata": {},
   "outputs": [
    {
     "name": "stdout",
     "output_type": "stream",
     "text": [
      "shape: (10, 2)\n",
      "┌────────────┬────────┐\n",
      "│ content_id ┆ counts │\n",
      "│ ---        ┆ ---    │\n",
      "│ i64        ┆ u32    │\n",
      "╞════════════╪════════╡\n",
      "│ 4979       ┆ 5      │\n",
      "│ 7543       ┆ 4      │\n",
      "│ 6976       ┆ 4      │\n",
      "│ 7485       ┆ 4      │\n",
      "│ 7497       ┆ 4      │\n",
      "│ 7342       ┆ 4      │\n",
      "│ 7217       ┆ 4      │\n",
      "│ 7345       ┆ 4      │\n",
      "│ 6848       ┆ 4      │\n",
      "│ 8018       ┆ 4      │\n",
      "└────────────┴────────┘\n"
     ]
    }
   ],
   "source": [
    "print(    \n",
    "    train_test.filter((pl.col(\"answered_correctly\") == 1) & (pl.col(\"user_id\") == 2139561972))  # Фильтрация\n",
    "    .group_by(\"content_id\")  # Группировка по content_id\n",
    "    .agg(pl.len().alias(\"counts\"))  # Подсчёт количества строк\n",
    "    .sort(\"counts\", descending=True)  # Сортировка по counts\n",
    "    .limit(10)  # Ограничение результата до первых 10 записей\n",
    "    .collect()\n",
    ")"
   ]
  },
  {
   "attachments": {},
   "cell_type": "markdown",
   "id": "8a63000f",
   "metadata": {},
   "source": [
    "Видим, что студент неоднократно проходил один и тот же вопрос. Подчистим выборку оставив только последние ответы студентов и сохраним новую выборку в parquet файл, для ускорения дальнейшей обработки."
   ]
  },
  {
   "cell_type": "code",
   "execution_count": 29,
   "id": "fa305e2d",
   "metadata": {},
   "outputs": [],
   "source": [
    "unique_df = train_data.sort(\"row_id\", descending=True).unique(subset=[\"user_id\", \"content_id\"], keep=\"first\")\n",
    "unique_df.collect(streaming=True).write_parquet('data/train_uniquie.parquet')"
   ]
  },
  {
   "attachments": {},
   "cell_type": "markdown",
   "id": "035b32e9",
   "metadata": {},
   "source": [
    "Откроем новый файл с уникальными значения для работы с выборкой"
   ]
  },
  {
   "cell_type": "code",
   "execution_count": 30,
   "id": "31ef9c92",
   "metadata": {},
   "outputs": [],
   "source": [
    "train = pl.scan_parquet('data/train_uniquie.parquet')"
   ]
  },
  {
   "cell_type": "code",
   "execution_count": 32,
   "id": "8ee129d7",
   "metadata": {},
   "outputs": [],
   "source": [
    "train_test = train.filter(\n",
    "        pl.col('content_type_id') == 0\n",
    "    )"
   ]
  },
  {
   "attachments": {},
   "cell_type": "markdown",
   "id": "dae47628",
   "metadata": {},
   "source": [
    "Проверим количество ответов и их уникальное количество"
   ]
  },
  {
   "cell_type": "code",
   "execution_count": 51,
   "id": "c214edca",
   "metadata": {},
   "outputs": [
    {
     "name": "stdout",
     "output_type": "stream",
     "text": [
      "shape: (10, 3)\n",
      "┌────────────┬──────────┬──────────────────────┐\n",
      "│ user_id    ┆ answered ┆ unique_content_count │\n",
      "│ ---        ┆ ---      ┆ ---                  │\n",
      "│ i64        ┆ u32      ┆ u32                  │\n",
      "╞════════════╪══════════╪══════════════════════╡\n",
      "│ 1223856469 ┆ 10003    ┆ 10003                │\n",
      "│ 2070068957 ┆ 9527     ┆ 9527                 │\n",
      "│ 721126014  ┆ 9381     ┆ 9381                 │\n",
      "│ 244146869  ┆ 9353     ┆ 9353                 │\n",
      "│ 1509029498 ┆ 9231     ┆ 9231                 │\n",
      "│ 1098525251 ┆ 9214     ┆ 9214                 │\n",
      "│ 716820873  ┆ 9142     ┆ 9142                 │\n",
      "│ 1615528747 ┆ 9126     ┆ 9126                 │\n",
      "│ 2139561972 ┆ 9037     ┆ 9037                 │\n",
      "│ 2132723519 ┆ 8998     ┆ 8998                 │\n",
      "└────────────┴──────────┴──────────────────────┘\n"
     ]
    }
   ],
   "source": [
    "print (\n",
    "    train_test\n",
    "    .filter(pl.col(\"answered_correctly\") == 1)  # Фильтрация\n",
    "    .group_by(\"user_id\")  # Группировка\n",
    "    .agg([\n",
    "        pl.len().alias(\"answered\"),\n",
    "        pl.col(\"content_id\").n_unique().alias(\"unique_content_count\")\n",
    "    ])\n",
    "    .sort(\"answered\", descending=True)  # Сортировка\n",
    "    .limit(10)  # Ограничение\n",
    "    .collect(streaming=True) # Материализация LazyFrame в DataFrame\n",
    ")\n"
   ]
  },
  {
   "attachments": {},
   "cell_type": "markdown",
   "id": "59d4fc45",
   "metadata": {},
   "source": [
    "Теперь выглядит всё нормально. Попробуем дальше анализировать эту выборку."
   ]
  },
  {
   "attachments": {},
   "cell_type": "markdown",
   "id": "d51a23b64f169f71",
   "metadata": {},
   "source": [
    "Теперь посмотрим описание числовых показателей. Bool приведем к int8"
   ]
  },
  {
   "cell_type": "code",
   "execution_count": 17,
   "id": "98561b10d2e511d",
   "metadata": {
    "ExecuteTime": {
     "end_time": "2024-10-09T21:43:16.619977Z",
     "start_time": "2024-10-09T21:40:40.938621Z"
    }
   },
   "outputs": [
    {
     "data": {
      "text/html": [
       "<div><style>\n",
       ".dataframe > thead > tr,\n",
       ".dataframe > tbody > tr {\n",
       "  text-align: right;\n",
       "  white-space: pre-wrap;\n",
       "}\n",
       "</style>\n",
       "<small>shape: (9, 5)</small><table border=\"1\" class=\"dataframe\"><thead><tr><th>statistic</th><th>timestamp</th><th>answered_correctly</th><th>prior_question_elapsed_time</th><th>prior_question_had_explanation</th></tr><tr><td>str</td><td>f64</td><td>f64</td><td>f64</td><td>f64</td></tr></thead><tbody><tr><td>&quot;count&quot;</td><td>8.6809085e7</td><td>8.6809085e7</td><td>8.6416579e7</td><td>8.6416579e7</td></tr><tr><td>&quot;null_count&quot;</td><td>0.0</td><td>0.0</td><td>392506.0</td><td>392506.0</td></tr><tr><td>&quot;mean&quot;</td><td>7.2684e9</td><td>0.644929</td><td>25898.415826</td><td>0.896621</td></tr><tr><td>&quot;std&quot;</td><td>1.1260e10</td><td>0.478535</td><td>20052.128906</td><td>0.304453</td></tr><tr><td>&quot;min&quot;</td><td>0.0</td><td>0.0</td><td>0.0</td><td>0.0</td></tr><tr><td>&quot;25%&quot;</td><td>4.33946245e8</td><td>0.0</td><td>16000.0</td><td>1.0</td></tr><tr><td>&quot;50%&quot;</td><td>2.4271e9</td><td>1.0</td><td>21000.0</td><td>1.0</td></tr><tr><td>&quot;75%&quot;</td><td>9.0322e9</td><td>1.0</td><td>30000.0</td><td>1.0</td></tr><tr><td>&quot;max&quot;</td><td>8.7426e10</td><td>1.0</td><td>300000.0</td><td>1.0</td></tr></tbody></table></div>"
      ],
      "text/plain": [
       "shape: (9, 5)\n",
       "┌────────────┬──────────────┬────────────────────┬────────────────────────┬────────────────────────┐\n",
       "│ statistic  ┆ timestamp    ┆ answered_correctly ┆ prior_question_elapsed ┆ prior_question_had_exp │\n",
       "│ ---        ┆ ---          ┆ ---                ┆ _time                  ┆ lanation               │\n",
       "│ str        ┆ f64          ┆ f64                ┆ ---                    ┆ ---                    │\n",
       "│            ┆              ┆                    ┆ f64                    ┆ f64                    │\n",
       "╞════════════╪══════════════╪════════════════════╪════════════════════════╪════════════════════════╡\n",
       "│ count      ┆ 8.6809085e7  ┆ 8.6809085e7        ┆ 8.6416579e7            ┆ 8.6416579e7            │\n",
       "│ null_count ┆ 0.0          ┆ 0.0                ┆ 392506.0               ┆ 392506.0               │\n",
       "│ mean       ┆ 7.2684e9     ┆ 0.644929           ┆ 25898.415826           ┆ 0.896621               │\n",
       "│ std        ┆ 1.1260e10    ┆ 0.478535           ┆ 20052.128906           ┆ 0.304453               │\n",
       "│ min        ┆ 0.0          ┆ 0.0                ┆ 0.0                    ┆ 0.0                    │\n",
       "│ 25%        ┆ 4.33946245e8 ┆ 0.0                ┆ 16000.0                ┆ 1.0                    │\n",
       "│ 50%        ┆ 2.4271e9     ┆ 1.0                ┆ 21000.0                ┆ 1.0                    │\n",
       "│ 75%        ┆ 9.0322e9     ┆ 1.0                ┆ 30000.0                ┆ 1.0                    │\n",
       "│ max        ┆ 8.7426e10    ┆ 1.0                ┆ 300000.0               ┆ 1.0                    │\n",
       "└────────────┴──────────────┴────────────────────┴────────────────────────┴────────────────────────┘"
      ]
     },
     "execution_count": 17,
     "metadata": {},
     "output_type": "execute_result"
    }
   ],
   "source": [
    "train_stat = (train_test.select(\n",
    "    # выбираем все столбцы, кроме перечисленных\n",
    "    pl.all().exclude('row_id', 'content_type_id', 'user_id', 'content_id', 'user_answer', 'task_container_id', 'prior_question_had_explanation'),\n",
    "    # столбец с bool значением приведем к числовому int8\n",
    "    pl.col('prior_question_had_explanation').cast(pl.Int8)\n",
    ").collect(streaming=True))\n",
    "# вызовем методом вывода описания\n",
    "train_stat.describe()"
   ]
  },
  {
   "attachments": {},
   "cell_type": "markdown",
   "id": "cf75f778",
   "metadata": {},
   "source": [
    "При первоначальной оценке датасета видим, что процент верных ответов 69.4, при этом с объяснением предыдущего вопроса ознакомилось 90% учащихся. Так же видим большой временной разброс временных показателей.\n"
   ]
  },
  {
   "cell_type": "markdown",
   "id": "594ab15d34e1b308",
   "metadata": {},
   "source": [
    "Посмотрим зависимость правильных ответов от получения разъяснений на предыдущий вопрос."
   ]
  },
  {
   "cell_type": "code",
   "execution_count": 40,
   "id": "61785498998e3713",
   "metadata": {
    "ExecuteTime": {
     "end_time": "2024-10-07T21:31:26.013663Z",
     "start_time": "2024-10-07T21:31:21.740146Z"
    }
   },
   "outputs": [
    {
     "data": {
      "text/html": [
       "<div><style>\n",
       ".dataframe > thead > tr,\n",
       ".dataframe > tbody > tr {\n",
       "  text-align: right;\n",
       "  white-space: pre-wrap;\n",
       "}\n",
       "</style>\n",
       "<small>shape: (2, 2)</small><table border=\"1\" class=\"dataframe\"><thead><tr><th>prior_question_had_explanation</th><th>answered_correctly</th></tr><tr><td>bool</td><td>f64</td></tr></thead><tbody><tr><td>false</td><td>0.507902</td></tr><tr><td>true</td><td>0.714852</td></tr></tbody></table></div>"
      ],
      "text/plain": [
       "shape: (2, 2)\n",
       "┌────────────────────────────────┬────────────────────┐\n",
       "│ prior_question_had_explanation ┆ answered_correctly │\n",
       "│ ---                            ┆ ---                │\n",
       "│ bool                           ┆ f64                │\n",
       "╞════════════════════════════════╪════════════════════╡\n",
       "│ false                          ┆ 0.507902           │\n",
       "│ true                           ┆ 0.714852           │\n",
       "└────────────────────────────────┴────────────────────┘"
      ]
     },
     "execution_count": 40,
     "metadata": {},
     "output_type": "execute_result"
    }
   ],
   "source": [
    "train_test.select(\n",
    "        pl.col('prior_question_had_explanation'),\n",
    "        pl.col('answered_correctly'),\n",
    "    ).drop_nulls().group_by('prior_question_had_explanation').agg(\n",
    "        pl.col('answered_correctly')\n",
    "        .mean()\n",
    "    ).collect(streaming=True)\n",
    "\n"
   ]
  },
  {
   "attachments": {},
   "cell_type": "markdown",
   "id": "56a42ec73f343c5d",
   "metadata": {},
   "source": [
    "Учащийся отвечал на следующий вопрос в 71.5% верно, если до этого получал разъяснения, иначе только в 50.8%."
   ]
  },
  {
   "cell_type": "markdown",
   "id": "7e7b30f2f98d1094",
   "metadata": {},
   "source": [
    "Посмотрим с другой стороны - как часто учащиеся получали разъяснения после правильного/неправильного ответа. Здесь нам придется сдвинуть строки в столбцах, чтобы разъяснение относилось к анализируемому вопросу"
   ]
  },
  {
   "cell_type": "code",
   "execution_count": 58,
   "id": "fa8699943fb4353a",
   "metadata": {
    "ExecuteTime": {
     "end_time": "2024-10-09T19:24:56.901396Z",
     "start_time": "2024-10-09T19:24:51.715179Z"
    }
   },
   "outputs": [
    {
     "name": "stdout",
     "output_type": "stream",
     "text": [
      "shape: (2, 2)\n",
      "┌────────────────────┬──────────────────────┐\n",
      "│ answered_correctly ┆ question_explanation │\n",
      "│ ---                ┆ ---                  │\n",
      "│ i64                ┆ f64                  │\n",
      "╞════════════════════╪══════════════════════╡\n",
      "│ 0                  ┆ 0.840092             │\n",
      "│ 1                  ┆ 0.927329             │\n",
      "└────────────────────┴──────────────────────┘\n"
     ]
    }
   ],
   "source": [
    "print(\n",
    "    train_test.select(\n",
    "        # возьмем столбец с разъяснениями\n",
    "        pl.col('prior_question_had_explanation'),\n",
    "        # возьмем столбец с ответами\n",
    "        pl.col('answered_correctly')\n",
    "    # сгруппируем данные по столбцу ответа\n",
    "    ).group_by('answered_correctly')\n",
    "    # для стобца факта разъяснений проведем аггрегацию\n",
    "    .agg(\n",
    "        pl.col('prior_question_had_explanation')\n",
    "        # приводим bool к числу\n",
    "        .cast(pl.Int8)\n",
    "        # вычисляем среднее\n",
    "        .mean()\n",
    "        # так как смысл столбца поменялся, переименуем его\n",
    "        .alias('question_explanation')\n",
    "    # запускаем обработку со стримингом\n",
    "    ).collect(streaming=True)\n",
    ")"
   ]
  },
  {
   "attachments": {},
   "cell_type": "markdown",
   "id": "e2ca082a77a09061",
   "metadata": {},
   "source": [
    "Видим, что после правильного ответа учащиеся чаще (92.7%) брали разъяснения, чем после неправильного (84%) "
   ]
  },
  {
   "cell_type": "markdown",
   "id": "48fe3e68678ad3cd",
   "metadata": {},
   "source": [
    "Посмотрим зависимость правильности ответов от общего времени"
   ]
  },
  {
   "cell_type": "code",
   "execution_count": 66,
   "id": "94d1f32067e8c116",
   "metadata": {
    "ExecuteTime": {
     "end_time": "2024-10-09T19:29:33.344573Z",
     "start_time": "2024-10-09T19:29:23.994815Z"
    }
   },
   "outputs": [
    {
     "data": {
      "application/vnd.plotly.v1+json": {
       "config": {
        "plotlyServerURL": "https://plot.ly"
       },
       "data": [
        {
         "hovertemplate": "time=%{x}<br>mean_correctly=%{y}<extra></extra>",
         "legendgroup": "",
         "line": {
          "color": "#636efa",
          "dash": "solid"
         },
         "marker": {
          "symbol": "circle"
         },
         "mode": "lines",
         "name": "",
         "orientation": "v",
         "showlegend": false,
         "type": "scatter",
         "x": [
          1,
          2,
          3,
          4,
          5,
          6,
          7,
          8,
          9,
          10,
          11,
          12,
          13,
          14,
          15,
          16,
          17,
          18,
          19,
          20,
          21,
          22,
          23,
          24,
          25,
          26,
          27,
          28,
          29,
          30,
          31,
          32,
          33,
          34,
          35,
          36,
          37,
          38,
          39,
          40,
          41,
          42,
          43,
          44,
          45,
          46,
          47,
          48,
          49,
          50,
          51,
          52,
          53,
          54,
          55,
          56,
          57,
          58,
          59,
          60,
          61,
          62,
          63,
          64,
          65,
          66,
          67,
          68,
          69,
          70,
          71,
          72,
          73,
          74,
          75,
          76,
          77,
          78,
          79,
          80,
          81,
          82,
          83,
          84,
          85,
          86,
          87,
          88,
          89,
          90,
          91,
          92
         ],
         "xaxis": "x",
         "y": [
          0.710914110453629,
          0.7109044368425008,
          0.7119305810061074,
          0.7117102134101909,
          0.7123439918016892,
          0.7125597531999461,
          0.7144433596545068,
          0.7174330478874646,
          0.7165861949239598,
          0.7154056064596584,
          0.7128030977302361,
          0.7157313086374628,
          0.7174510947128607,
          0.7166238837889892,
          0.7146063757191996,
          0.7172610237342628,
          0.7177980108163086,
          0.7178448320640467,
          0.7176620324392222,
          0.7102562363860665,
          0.7145383124650672,
          0.7156162756329172,
          0.7162184868814997,
          0.714801188514311,
          0.715439272105984,
          0.7144801256909942,
          0.7167610953729934,
          0.7161434486889315,
          0.715010783003076,
          0.7121991909255458,
          0.7087970810411115,
          0.7121881577661927,
          0.7097938179556746,
          0.711872983296814,
          0.7168660133621498,
          0.7155750323383452,
          0.7173312478146094,
          0.716750885601167,
          0.7163515444652083,
          0.7142428703105009,
          0.7152936977500789,
          0.7123680570721409,
          0.7150549220058672,
          0.7127875143458301,
          0.7125167545815758,
          0.7124308236060085,
          0.7108332373677274,
          0.717128510895697,
          0.7174133643705402,
          0.7147515048618615,
          0.7166695391943343,
          0.7121452706994232,
          0.717125304951271,
          0.7184677262057694,
          0.7171239868313425,
          0.7208114356279257,
          0.7194854327104314,
          0.7145027521946815,
          0.7117717927514329,
          0.7149767472871835,
          0.7163720053666073,
          0.7131298983294211,
          0.7136130121176084,
          0.7157033654323439,
          0.7158801994296344,
          0.7158834257279854,
          0.7154304831250615,
          0.709605156071455,
          0.7138929094456755,
          0.7129002584432081,
          0.7189694999458969,
          0.7211689791783499,
          0.7201862985053347,
          0.7221639963473352,
          0.7199257481776611,
          0.7161718987463273,
          0.7199669203122806,
          0.7192355271690853,
          0.7176072335308004,
          0.7182101436731868,
          0.7142831549780241,
          0.7075355123124193,
          0.7144298363984527,
          0.7115090591705291,
          0.7117881858946113,
          0.7140734365649815,
          0.7112581632857267,
          0.7074609340333008,
          0.7123932440175721,
          0.7083077318777418,
          0.7134109927113388,
          0.6957244779022547
         ],
         "yaxis": "y"
        }
       ],
       "layout": {
        "legend": {
         "tracegroupgap": 0
        },
        "margin": {
         "t": 60
        },
        "template": {
         "data": {
          "bar": [
           {
            "error_x": {
             "color": "#2a3f5f"
            },
            "error_y": {
             "color": "#2a3f5f"
            },
            "marker": {
             "line": {
              "color": "#E5ECF6",
              "width": 0.5
             },
             "pattern": {
              "fillmode": "overlay",
              "size": 10,
              "solidity": 0.2
             }
            },
            "type": "bar"
           }
          ],
          "barpolar": [
           {
            "marker": {
             "line": {
              "color": "#E5ECF6",
              "width": 0.5
             },
             "pattern": {
              "fillmode": "overlay",
              "size": 10,
              "solidity": 0.2
             }
            },
            "type": "barpolar"
           }
          ],
          "carpet": [
           {
            "aaxis": {
             "endlinecolor": "#2a3f5f",
             "gridcolor": "white",
             "linecolor": "white",
             "minorgridcolor": "white",
             "startlinecolor": "#2a3f5f"
            },
            "baxis": {
             "endlinecolor": "#2a3f5f",
             "gridcolor": "white",
             "linecolor": "white",
             "minorgridcolor": "white",
             "startlinecolor": "#2a3f5f"
            },
            "type": "carpet"
           }
          ],
          "choropleth": [
           {
            "colorbar": {
             "outlinewidth": 0,
             "ticks": ""
            },
            "type": "choropleth"
           }
          ],
          "contour": [
           {
            "colorbar": {
             "outlinewidth": 0,
             "ticks": ""
            },
            "colorscale": [
             [
              0,
              "#0d0887"
             ],
             [
              0.1111111111111111,
              "#46039f"
             ],
             [
              0.2222222222222222,
              "#7201a8"
             ],
             [
              0.3333333333333333,
              "#9c179e"
             ],
             [
              0.4444444444444444,
              "#bd3786"
             ],
             [
              0.5555555555555556,
              "#d8576b"
             ],
             [
              0.6666666666666666,
              "#ed7953"
             ],
             [
              0.7777777777777778,
              "#fb9f3a"
             ],
             [
              0.8888888888888888,
              "#fdca26"
             ],
             [
              1,
              "#f0f921"
             ]
            ],
            "type": "contour"
           }
          ],
          "contourcarpet": [
           {
            "colorbar": {
             "outlinewidth": 0,
             "ticks": ""
            },
            "type": "contourcarpet"
           }
          ],
          "heatmap": [
           {
            "colorbar": {
             "outlinewidth": 0,
             "ticks": ""
            },
            "colorscale": [
             [
              0,
              "#0d0887"
             ],
             [
              0.1111111111111111,
              "#46039f"
             ],
             [
              0.2222222222222222,
              "#7201a8"
             ],
             [
              0.3333333333333333,
              "#9c179e"
             ],
             [
              0.4444444444444444,
              "#bd3786"
             ],
             [
              0.5555555555555556,
              "#d8576b"
             ],
             [
              0.6666666666666666,
              "#ed7953"
             ],
             [
              0.7777777777777778,
              "#fb9f3a"
             ],
             [
              0.8888888888888888,
              "#fdca26"
             ],
             [
              1,
              "#f0f921"
             ]
            ],
            "type": "heatmap"
           }
          ],
          "heatmapgl": [
           {
            "colorbar": {
             "outlinewidth": 0,
             "ticks": ""
            },
            "colorscale": [
             [
              0,
              "#0d0887"
             ],
             [
              0.1111111111111111,
              "#46039f"
             ],
             [
              0.2222222222222222,
              "#7201a8"
             ],
             [
              0.3333333333333333,
              "#9c179e"
             ],
             [
              0.4444444444444444,
              "#bd3786"
             ],
             [
              0.5555555555555556,
              "#d8576b"
             ],
             [
              0.6666666666666666,
              "#ed7953"
             ],
             [
              0.7777777777777778,
              "#fb9f3a"
             ],
             [
              0.8888888888888888,
              "#fdca26"
             ],
             [
              1,
              "#f0f921"
             ]
            ],
            "type": "heatmapgl"
           }
          ],
          "histogram": [
           {
            "marker": {
             "pattern": {
              "fillmode": "overlay",
              "size": 10,
              "solidity": 0.2
             }
            },
            "type": "histogram"
           }
          ],
          "histogram2d": [
           {
            "colorbar": {
             "outlinewidth": 0,
             "ticks": ""
            },
            "colorscale": [
             [
              0,
              "#0d0887"
             ],
             [
              0.1111111111111111,
              "#46039f"
             ],
             [
              0.2222222222222222,
              "#7201a8"
             ],
             [
              0.3333333333333333,
              "#9c179e"
             ],
             [
              0.4444444444444444,
              "#bd3786"
             ],
             [
              0.5555555555555556,
              "#d8576b"
             ],
             [
              0.6666666666666666,
              "#ed7953"
             ],
             [
              0.7777777777777778,
              "#fb9f3a"
             ],
             [
              0.8888888888888888,
              "#fdca26"
             ],
             [
              1,
              "#f0f921"
             ]
            ],
            "type": "histogram2d"
           }
          ],
          "histogram2dcontour": [
           {
            "colorbar": {
             "outlinewidth": 0,
             "ticks": ""
            },
            "colorscale": [
             [
              0,
              "#0d0887"
             ],
             [
              0.1111111111111111,
              "#46039f"
             ],
             [
              0.2222222222222222,
              "#7201a8"
             ],
             [
              0.3333333333333333,
              "#9c179e"
             ],
             [
              0.4444444444444444,
              "#bd3786"
             ],
             [
              0.5555555555555556,
              "#d8576b"
             ],
             [
              0.6666666666666666,
              "#ed7953"
             ],
             [
              0.7777777777777778,
              "#fb9f3a"
             ],
             [
              0.8888888888888888,
              "#fdca26"
             ],
             [
              1,
              "#f0f921"
             ]
            ],
            "type": "histogram2dcontour"
           }
          ],
          "mesh3d": [
           {
            "colorbar": {
             "outlinewidth": 0,
             "ticks": ""
            },
            "type": "mesh3d"
           }
          ],
          "parcoords": [
           {
            "line": {
             "colorbar": {
              "outlinewidth": 0,
              "ticks": ""
             }
            },
            "type": "parcoords"
           }
          ],
          "pie": [
           {
            "automargin": true,
            "type": "pie"
           }
          ],
          "scatter": [
           {
            "fillpattern": {
             "fillmode": "overlay",
             "size": 10,
             "solidity": 0.2
            },
            "type": "scatter"
           }
          ],
          "scatter3d": [
           {
            "line": {
             "colorbar": {
              "outlinewidth": 0,
              "ticks": ""
             }
            },
            "marker": {
             "colorbar": {
              "outlinewidth": 0,
              "ticks": ""
             }
            },
            "type": "scatter3d"
           }
          ],
          "scattercarpet": [
           {
            "marker": {
             "colorbar": {
              "outlinewidth": 0,
              "ticks": ""
             }
            },
            "type": "scattercarpet"
           }
          ],
          "scattergeo": [
           {
            "marker": {
             "colorbar": {
              "outlinewidth": 0,
              "ticks": ""
             }
            },
            "type": "scattergeo"
           }
          ],
          "scattergl": [
           {
            "marker": {
             "colorbar": {
              "outlinewidth": 0,
              "ticks": ""
             }
            },
            "type": "scattergl"
           }
          ],
          "scattermapbox": [
           {
            "marker": {
             "colorbar": {
              "outlinewidth": 0,
              "ticks": ""
             }
            },
            "type": "scattermapbox"
           }
          ],
          "scatterpolar": [
           {
            "marker": {
             "colorbar": {
              "outlinewidth": 0,
              "ticks": ""
             }
            },
            "type": "scatterpolar"
           }
          ],
          "scatterpolargl": [
           {
            "marker": {
             "colorbar": {
              "outlinewidth": 0,
              "ticks": ""
             }
            },
            "type": "scatterpolargl"
           }
          ],
          "scatterternary": [
           {
            "marker": {
             "colorbar": {
              "outlinewidth": 0,
              "ticks": ""
             }
            },
            "type": "scatterternary"
           }
          ],
          "surface": [
           {
            "colorbar": {
             "outlinewidth": 0,
             "ticks": ""
            },
            "colorscale": [
             [
              0,
              "#0d0887"
             ],
             [
              0.1111111111111111,
              "#46039f"
             ],
             [
              0.2222222222222222,
              "#7201a8"
             ],
             [
              0.3333333333333333,
              "#9c179e"
             ],
             [
              0.4444444444444444,
              "#bd3786"
             ],
             [
              0.5555555555555556,
              "#d8576b"
             ],
             [
              0.6666666666666666,
              "#ed7953"
             ],
             [
              0.7777777777777778,
              "#fb9f3a"
             ],
             [
              0.8888888888888888,
              "#fdca26"
             ],
             [
              1,
              "#f0f921"
             ]
            ],
            "type": "surface"
           }
          ],
          "table": [
           {
            "cells": {
             "fill": {
              "color": "#EBF0F8"
             },
             "line": {
              "color": "white"
             }
            },
            "header": {
             "fill": {
              "color": "#C8D4E3"
             },
             "line": {
              "color": "white"
             }
            },
            "type": "table"
           }
          ]
         },
         "layout": {
          "annotationdefaults": {
           "arrowcolor": "#2a3f5f",
           "arrowhead": 0,
           "arrowwidth": 1
          },
          "autotypenumbers": "strict",
          "coloraxis": {
           "colorbar": {
            "outlinewidth": 0,
            "ticks": ""
           }
          },
          "colorscale": {
           "diverging": [
            [
             0,
             "#8e0152"
            ],
            [
             0.1,
             "#c51b7d"
            ],
            [
             0.2,
             "#de77ae"
            ],
            [
             0.3,
             "#f1b6da"
            ],
            [
             0.4,
             "#fde0ef"
            ],
            [
             0.5,
             "#f7f7f7"
            ],
            [
             0.6,
             "#e6f5d0"
            ],
            [
             0.7,
             "#b8e186"
            ],
            [
             0.8,
             "#7fbc41"
            ],
            [
             0.9,
             "#4d9221"
            ],
            [
             1,
             "#276419"
            ]
           ],
           "sequential": [
            [
             0,
             "#0d0887"
            ],
            [
             0.1111111111111111,
             "#46039f"
            ],
            [
             0.2222222222222222,
             "#7201a8"
            ],
            [
             0.3333333333333333,
             "#9c179e"
            ],
            [
             0.4444444444444444,
             "#bd3786"
            ],
            [
             0.5555555555555556,
             "#d8576b"
            ],
            [
             0.6666666666666666,
             "#ed7953"
            ],
            [
             0.7777777777777778,
             "#fb9f3a"
            ],
            [
             0.8888888888888888,
             "#fdca26"
            ],
            [
             1,
             "#f0f921"
            ]
           ],
           "sequentialminus": [
            [
             0,
             "#0d0887"
            ],
            [
             0.1111111111111111,
             "#46039f"
            ],
            [
             0.2222222222222222,
             "#7201a8"
            ],
            [
             0.3333333333333333,
             "#9c179e"
            ],
            [
             0.4444444444444444,
             "#bd3786"
            ],
            [
             0.5555555555555556,
             "#d8576b"
            ],
            [
             0.6666666666666666,
             "#ed7953"
            ],
            [
             0.7777777777777778,
             "#fb9f3a"
            ],
            [
             0.8888888888888888,
             "#fdca26"
            ],
            [
             1,
             "#f0f921"
            ]
           ]
          },
          "colorway": [
           "#636efa",
           "#EF553B",
           "#00cc96",
           "#ab63fa",
           "#FFA15A",
           "#19d3f3",
           "#FF6692",
           "#B6E880",
           "#FF97FF",
           "#FECB52"
          ],
          "font": {
           "color": "#2a3f5f"
          },
          "geo": {
           "bgcolor": "white",
           "lakecolor": "white",
           "landcolor": "#E5ECF6",
           "showlakes": true,
           "showland": true,
           "subunitcolor": "white"
          },
          "hoverlabel": {
           "align": "left"
          },
          "hovermode": "closest",
          "mapbox": {
           "style": "light"
          },
          "paper_bgcolor": "white",
          "plot_bgcolor": "#E5ECF6",
          "polar": {
           "angularaxis": {
            "gridcolor": "white",
            "linecolor": "white",
            "ticks": ""
           },
           "bgcolor": "#E5ECF6",
           "radialaxis": {
            "gridcolor": "white",
            "linecolor": "white",
            "ticks": ""
           }
          },
          "scene": {
           "xaxis": {
            "backgroundcolor": "#E5ECF6",
            "gridcolor": "white",
            "gridwidth": 2,
            "linecolor": "white",
            "showbackground": true,
            "ticks": "",
            "zerolinecolor": "white"
           },
           "yaxis": {
            "backgroundcolor": "#E5ECF6",
            "gridcolor": "white",
            "gridwidth": 2,
            "linecolor": "white",
            "showbackground": true,
            "ticks": "",
            "zerolinecolor": "white"
           },
           "zaxis": {
            "backgroundcolor": "#E5ECF6",
            "gridcolor": "white",
            "gridwidth": 2,
            "linecolor": "white",
            "showbackground": true,
            "ticks": "",
            "zerolinecolor": "white"
           }
          },
          "shapedefaults": {
           "line": {
            "color": "#2a3f5f"
           }
          },
          "ternary": {
           "aaxis": {
            "gridcolor": "white",
            "linecolor": "white",
            "ticks": ""
           },
           "baxis": {
            "gridcolor": "white",
            "linecolor": "white",
            "ticks": ""
           },
           "bgcolor": "#E5ECF6",
           "caxis": {
            "gridcolor": "white",
            "linecolor": "white",
            "ticks": ""
           }
          },
          "title": {
           "x": 0.05
          },
          "xaxis": {
           "automargin": true,
           "gridcolor": "white",
           "linecolor": "white",
           "ticks": "",
           "title": {
            "standoff": 15
           },
           "zerolinecolor": "white",
           "zerolinewidth": 2
          },
          "yaxis": {
           "automargin": true,
           "gridcolor": "white",
           "linecolor": "white",
           "ticks": "",
           "title": {
            "standoff": 15
           },
           "zerolinecolor": "white",
           "zerolinewidth": 2
          }
         }
        },
        "xaxis": {
         "anchor": "y",
         "domain": [
          0,
          1
         ],
         "title": {
          "text": "time"
         }
        },
        "yaxis": {
         "anchor": "x",
         "domain": [
          0,
          1
         ],
         "title": {
          "text": "mean_correctly"
         }
        }
       }
      }
     },
     "metadata": {},
     "output_type": "display_data"
    }
   ],
   "source": [
    "result = ((train_test.filter(\n",
    "    # отрезаем выбросы выше 90-го перцентиля\n",
    "    (pl.col('timestamp') < pl.col('timestamp').quantile(0.9)) &\n",
    "    # отрезаем выбросы ниже относительно малого значения\n",
    "    (pl.col('timestamp') > 300000000)\n",
    ").group_by(\n",
    "    # группируем данные по времени, сгладив результаты\n",
    "    (pl.col('timestamp') // 250000000).alias('time'),\n",
    ").agg(\n",
    "    # для аггрегации возьмем среднее количество правильных ответов\n",
    "    pl.col('answered_correctly').mean().alias('mean_correctly'),\n",
    "# отсортируем по времени\n",
    ")).sort('time')\n",
    "          .collect(streaming=True))\n",
    "\n",
    "# выведем линейный график\n",
    "px.line(result, x='time', y='mean_correctly', )"
   ]
  },
  {
   "attachments": {},
   "cell_type": "markdown",
   "id": "5839f17600fdac75",
   "metadata": {},
   "source": [
    "Не заметно какого то четкого тренда, но есть сильное снижение правильных ответов при долгом большом общем времени"
   ]
  },
  {
   "cell_type": "markdown",
   "id": "21a795da4f25bc1f",
   "metadata": {},
   "source": [
    "Для большей информативности посмотрим, как зависит среднее количество правильных ответов от полного времени обучения."
   ]
  },
  {
   "cell_type": "code",
   "execution_count": 62,
   "id": "b49b4862666494ef",
   "metadata": {
    "ExecuteTime": {
     "end_time": "2024-10-07T21:32:03.125497Z",
     "start_time": "2024-10-07T21:31:57.627844Z"
    }
   },
   "outputs": [
    {
     "data": {
      "application/vnd.plotly.v1+json": {
       "config": {
        "plotlyServerURL": "https://plot.ly"
       },
       "data": [
        {
         "hovertemplate": "time=%{x}<br>answered_correctly=%{y}<extra></extra>",
         "legendgroup": "",
         "line": {
          "color": "#636efa",
          "dash": "solid"
         },
         "marker": {
          "symbol": "circle"
         },
         "mode": "lines",
         "name": "",
         "orientation": "v",
         "showlegend": false,
         "type": "scatter",
         "x": [
          0,
          1,
          2,
          3,
          4,
          5,
          6,
          7,
          8,
          9,
          10,
          11,
          12,
          13,
          14,
          15,
          16,
          17,
          18,
          19,
          20,
          21,
          22,
          23,
          24,
          25,
          26,
          27,
          28,
          29,
          30,
          31,
          32,
          33,
          34,
          35,
          36,
          37,
          38,
          39,
          40,
          41,
          42,
          43,
          44,
          45,
          46,
          47,
          48,
          49,
          50,
          51,
          52,
          53,
          54,
          55,
          56,
          57,
          58,
          59,
          60,
          61,
          62,
          63,
          64,
          65,
          66,
          67,
          68,
          69,
          70,
          71,
          72,
          73,
          74,
          75,
          76,
          77,
          78,
          79,
          80,
          81,
          82,
          83,
          84,
          85,
          86,
          87
         ],
         "xaxis": "x",
         "y": [
          0.5058136121125023,
          0.592891938477823,
          0.5992788179225702,
          0.6017511991703428,
          0.6040593929844575,
          0.6048406799920224,
          0.6021915750454309,
          0.6023259804851548,
          0.5979175369457017,
          0.6027810682458999,
          0.6025181163466137,
          0.6023863541079244,
          0.5984456537585088,
          0.6028193657665737,
          0.6060188658631164,
          0.6073171262764306,
          0.6043309529961232,
          0.6050696349028958,
          0.6056412023553566,
          0.6122632697657415,
          0.6128103722663139,
          0.6108272850183807,
          0.6126730455226106,
          0.616779684431746,
          0.6098535291738316,
          0.6112923307932198,
          0.6143869575952206,
          0.6117748896426427,
          0.6111119641161502,
          0.617419612282138,
          0.6186813089664466,
          0.6178194496147407,
          0.619543734931922,
          0.6192202948437322,
          0.6223991247188758,
          0.6287328320079967,
          0.6155728143382554,
          0.6319117870210188,
          0.6181695042640576,
          0.623282154151275,
          0.6257824430704275,
          0.6223750356143819,
          0.6297123651498582,
          0.6263110563555433,
          0.6356741193748757,
          0.6249548542055373,
          0.6322451552819363,
          0.6378684725134023,
          0.6248653065647235,
          0.6421571903721918,
          0.630698114949734,
          0.6214890364952779,
          0.634425238360302,
          0.647014685630765,
          0.644162333833229,
          0.6386841631578294,
          0.6425947797563609,
          0.6471223388338256,
          0.6470228854293457,
          0.6399100489489088,
          0.6381882513127972,
          0.6364780853749443,
          0.6443988262889925,
          0.6513503404745755,
          0.6508613113337944,
          0.6522777390754765,
          0.6267110454240988,
          0.652128341309238,
          0.6568601669433702,
          0.6594335119324667,
          0.6743910627951724,
          0.6634189425407362,
          0.6429960708713858,
          0.6648177467259214,
          0.6628971640256927,
          0.6613330277930437,
          0.6463410693033752,
          0.6672747557729529,
          0.6896471971991907,
          0.6483224867645901,
          0.6789537989145372,
          0.6961317269420626,
          0.7337461381431115,
          0.6586434457826613,
          0.6950142529100527,
          0.6890629674406313,
          0.6650989738449503,
          0.7431251125150002
         ],
         "yaxis": "y"
        }
       ],
       "layout": {
        "legend": {
         "tracegroupgap": 0
        },
        "margin": {
         "t": 60
        },
        "template": {
         "data": {
          "bar": [
           {
            "error_x": {
             "color": "#2a3f5f"
            },
            "error_y": {
             "color": "#2a3f5f"
            },
            "marker": {
             "line": {
              "color": "#E5ECF6",
              "width": 0.5
             },
             "pattern": {
              "fillmode": "overlay",
              "size": 10,
              "solidity": 0.2
             }
            },
            "type": "bar"
           }
          ],
          "barpolar": [
           {
            "marker": {
             "line": {
              "color": "#E5ECF6",
              "width": 0.5
             },
             "pattern": {
              "fillmode": "overlay",
              "size": 10,
              "solidity": 0.2
             }
            },
            "type": "barpolar"
           }
          ],
          "carpet": [
           {
            "aaxis": {
             "endlinecolor": "#2a3f5f",
             "gridcolor": "white",
             "linecolor": "white",
             "minorgridcolor": "white",
             "startlinecolor": "#2a3f5f"
            },
            "baxis": {
             "endlinecolor": "#2a3f5f",
             "gridcolor": "white",
             "linecolor": "white",
             "minorgridcolor": "white",
             "startlinecolor": "#2a3f5f"
            },
            "type": "carpet"
           }
          ],
          "choropleth": [
           {
            "colorbar": {
             "outlinewidth": 0,
             "ticks": ""
            },
            "type": "choropleth"
           }
          ],
          "contour": [
           {
            "colorbar": {
             "outlinewidth": 0,
             "ticks": ""
            },
            "colorscale": [
             [
              0,
              "#0d0887"
             ],
             [
              0.1111111111111111,
              "#46039f"
             ],
             [
              0.2222222222222222,
              "#7201a8"
             ],
             [
              0.3333333333333333,
              "#9c179e"
             ],
             [
              0.4444444444444444,
              "#bd3786"
             ],
             [
              0.5555555555555556,
              "#d8576b"
             ],
             [
              0.6666666666666666,
              "#ed7953"
             ],
             [
              0.7777777777777778,
              "#fb9f3a"
             ],
             [
              0.8888888888888888,
              "#fdca26"
             ],
             [
              1,
              "#f0f921"
             ]
            ],
            "type": "contour"
           }
          ],
          "contourcarpet": [
           {
            "colorbar": {
             "outlinewidth": 0,
             "ticks": ""
            },
            "type": "contourcarpet"
           }
          ],
          "heatmap": [
           {
            "colorbar": {
             "outlinewidth": 0,
             "ticks": ""
            },
            "colorscale": [
             [
              0,
              "#0d0887"
             ],
             [
              0.1111111111111111,
              "#46039f"
             ],
             [
              0.2222222222222222,
              "#7201a8"
             ],
             [
              0.3333333333333333,
              "#9c179e"
             ],
             [
              0.4444444444444444,
              "#bd3786"
             ],
             [
              0.5555555555555556,
              "#d8576b"
             ],
             [
              0.6666666666666666,
              "#ed7953"
             ],
             [
              0.7777777777777778,
              "#fb9f3a"
             ],
             [
              0.8888888888888888,
              "#fdca26"
             ],
             [
              1,
              "#f0f921"
             ]
            ],
            "type": "heatmap"
           }
          ],
          "heatmapgl": [
           {
            "colorbar": {
             "outlinewidth": 0,
             "ticks": ""
            },
            "colorscale": [
             [
              0,
              "#0d0887"
             ],
             [
              0.1111111111111111,
              "#46039f"
             ],
             [
              0.2222222222222222,
              "#7201a8"
             ],
             [
              0.3333333333333333,
              "#9c179e"
             ],
             [
              0.4444444444444444,
              "#bd3786"
             ],
             [
              0.5555555555555556,
              "#d8576b"
             ],
             [
              0.6666666666666666,
              "#ed7953"
             ],
             [
              0.7777777777777778,
              "#fb9f3a"
             ],
             [
              0.8888888888888888,
              "#fdca26"
             ],
             [
              1,
              "#f0f921"
             ]
            ],
            "type": "heatmapgl"
           }
          ],
          "histogram": [
           {
            "marker": {
             "pattern": {
              "fillmode": "overlay",
              "size": 10,
              "solidity": 0.2
             }
            },
            "type": "histogram"
           }
          ],
          "histogram2d": [
           {
            "colorbar": {
             "outlinewidth": 0,
             "ticks": ""
            },
            "colorscale": [
             [
              0,
              "#0d0887"
             ],
             [
              0.1111111111111111,
              "#46039f"
             ],
             [
              0.2222222222222222,
              "#7201a8"
             ],
             [
              0.3333333333333333,
              "#9c179e"
             ],
             [
              0.4444444444444444,
              "#bd3786"
             ],
             [
              0.5555555555555556,
              "#d8576b"
             ],
             [
              0.6666666666666666,
              "#ed7953"
             ],
             [
              0.7777777777777778,
              "#fb9f3a"
             ],
             [
              0.8888888888888888,
              "#fdca26"
             ],
             [
              1,
              "#f0f921"
             ]
            ],
            "type": "histogram2d"
           }
          ],
          "histogram2dcontour": [
           {
            "colorbar": {
             "outlinewidth": 0,
             "ticks": ""
            },
            "colorscale": [
             [
              0,
              "#0d0887"
             ],
             [
              0.1111111111111111,
              "#46039f"
             ],
             [
              0.2222222222222222,
              "#7201a8"
             ],
             [
              0.3333333333333333,
              "#9c179e"
             ],
             [
              0.4444444444444444,
              "#bd3786"
             ],
             [
              0.5555555555555556,
              "#d8576b"
             ],
             [
              0.6666666666666666,
              "#ed7953"
             ],
             [
              0.7777777777777778,
              "#fb9f3a"
             ],
             [
              0.8888888888888888,
              "#fdca26"
             ],
             [
              1,
              "#f0f921"
             ]
            ],
            "type": "histogram2dcontour"
           }
          ],
          "mesh3d": [
           {
            "colorbar": {
             "outlinewidth": 0,
             "ticks": ""
            },
            "type": "mesh3d"
           }
          ],
          "parcoords": [
           {
            "line": {
             "colorbar": {
              "outlinewidth": 0,
              "ticks": ""
             }
            },
            "type": "parcoords"
           }
          ],
          "pie": [
           {
            "automargin": true,
            "type": "pie"
           }
          ],
          "scatter": [
           {
            "fillpattern": {
             "fillmode": "overlay",
             "size": 10,
             "solidity": 0.2
            },
            "type": "scatter"
           }
          ],
          "scatter3d": [
           {
            "line": {
             "colorbar": {
              "outlinewidth": 0,
              "ticks": ""
             }
            },
            "marker": {
             "colorbar": {
              "outlinewidth": 0,
              "ticks": ""
             }
            },
            "type": "scatter3d"
           }
          ],
          "scattercarpet": [
           {
            "marker": {
             "colorbar": {
              "outlinewidth": 0,
              "ticks": ""
             }
            },
            "type": "scattercarpet"
           }
          ],
          "scattergeo": [
           {
            "marker": {
             "colorbar": {
              "outlinewidth": 0,
              "ticks": ""
             }
            },
            "type": "scattergeo"
           }
          ],
          "scattergl": [
           {
            "marker": {
             "colorbar": {
              "outlinewidth": 0,
              "ticks": ""
             }
            },
            "type": "scattergl"
           }
          ],
          "scattermapbox": [
           {
            "marker": {
             "colorbar": {
              "outlinewidth": 0,
              "ticks": ""
             }
            },
            "type": "scattermapbox"
           }
          ],
          "scatterpolar": [
           {
            "marker": {
             "colorbar": {
              "outlinewidth": 0,
              "ticks": ""
             }
            },
            "type": "scatterpolar"
           }
          ],
          "scatterpolargl": [
           {
            "marker": {
             "colorbar": {
              "outlinewidth": 0,
              "ticks": ""
             }
            },
            "type": "scatterpolargl"
           }
          ],
          "scatterternary": [
           {
            "marker": {
             "colorbar": {
              "outlinewidth": 0,
              "ticks": ""
             }
            },
            "type": "scatterternary"
           }
          ],
          "surface": [
           {
            "colorbar": {
             "outlinewidth": 0,
             "ticks": ""
            },
            "colorscale": [
             [
              0,
              "#0d0887"
             ],
             [
              0.1111111111111111,
              "#46039f"
             ],
             [
              0.2222222222222222,
              "#7201a8"
             ],
             [
              0.3333333333333333,
              "#9c179e"
             ],
             [
              0.4444444444444444,
              "#bd3786"
             ],
             [
              0.5555555555555556,
              "#d8576b"
             ],
             [
              0.6666666666666666,
              "#ed7953"
             ],
             [
              0.7777777777777778,
              "#fb9f3a"
             ],
             [
              0.8888888888888888,
              "#fdca26"
             ],
             [
              1,
              "#f0f921"
             ]
            ],
            "type": "surface"
           }
          ],
          "table": [
           {
            "cells": {
             "fill": {
              "color": "#EBF0F8"
             },
             "line": {
              "color": "white"
             }
            },
            "header": {
             "fill": {
              "color": "#C8D4E3"
             },
             "line": {
              "color": "white"
             }
            },
            "type": "table"
           }
          ]
         },
         "layout": {
          "annotationdefaults": {
           "arrowcolor": "#2a3f5f",
           "arrowhead": 0,
           "arrowwidth": 1
          },
          "autotypenumbers": "strict",
          "coloraxis": {
           "colorbar": {
            "outlinewidth": 0,
            "ticks": ""
           }
          },
          "colorscale": {
           "diverging": [
            [
             0,
             "#8e0152"
            ],
            [
             0.1,
             "#c51b7d"
            ],
            [
             0.2,
             "#de77ae"
            ],
            [
             0.3,
             "#f1b6da"
            ],
            [
             0.4,
             "#fde0ef"
            ],
            [
             0.5,
             "#f7f7f7"
            ],
            [
             0.6,
             "#e6f5d0"
            ],
            [
             0.7,
             "#b8e186"
            ],
            [
             0.8,
             "#7fbc41"
            ],
            [
             0.9,
             "#4d9221"
            ],
            [
             1,
             "#276419"
            ]
           ],
           "sequential": [
            [
             0,
             "#0d0887"
            ],
            [
             0.1111111111111111,
             "#46039f"
            ],
            [
             0.2222222222222222,
             "#7201a8"
            ],
            [
             0.3333333333333333,
             "#9c179e"
            ],
            [
             0.4444444444444444,
             "#bd3786"
            ],
            [
             0.5555555555555556,
             "#d8576b"
            ],
            [
             0.6666666666666666,
             "#ed7953"
            ],
            [
             0.7777777777777778,
             "#fb9f3a"
            ],
            [
             0.8888888888888888,
             "#fdca26"
            ],
            [
             1,
             "#f0f921"
            ]
           ],
           "sequentialminus": [
            [
             0,
             "#0d0887"
            ],
            [
             0.1111111111111111,
             "#46039f"
            ],
            [
             0.2222222222222222,
             "#7201a8"
            ],
            [
             0.3333333333333333,
             "#9c179e"
            ],
            [
             0.4444444444444444,
             "#bd3786"
            ],
            [
             0.5555555555555556,
             "#d8576b"
            ],
            [
             0.6666666666666666,
             "#ed7953"
            ],
            [
             0.7777777777777778,
             "#fb9f3a"
            ],
            [
             0.8888888888888888,
             "#fdca26"
            ],
            [
             1,
             "#f0f921"
            ]
           ]
          },
          "colorway": [
           "#636efa",
           "#EF553B",
           "#00cc96",
           "#ab63fa",
           "#FFA15A",
           "#19d3f3",
           "#FF6692",
           "#B6E880",
           "#FF97FF",
           "#FECB52"
          ],
          "font": {
           "color": "#2a3f5f"
          },
          "geo": {
           "bgcolor": "white",
           "lakecolor": "white",
           "landcolor": "#E5ECF6",
           "showlakes": true,
           "showland": true,
           "subunitcolor": "white"
          },
          "hoverlabel": {
           "align": "left"
          },
          "hovermode": "closest",
          "mapbox": {
           "style": "light"
          },
          "paper_bgcolor": "white",
          "plot_bgcolor": "#E5ECF6",
          "polar": {
           "angularaxis": {
            "gridcolor": "white",
            "linecolor": "white",
            "ticks": ""
           },
           "bgcolor": "#E5ECF6",
           "radialaxis": {
            "gridcolor": "white",
            "linecolor": "white",
            "ticks": ""
           }
          },
          "scene": {
           "xaxis": {
            "backgroundcolor": "#E5ECF6",
            "gridcolor": "white",
            "gridwidth": 2,
            "linecolor": "white",
            "showbackground": true,
            "ticks": "",
            "zerolinecolor": "white"
           },
           "yaxis": {
            "backgroundcolor": "#E5ECF6",
            "gridcolor": "white",
            "gridwidth": 2,
            "linecolor": "white",
            "showbackground": true,
            "ticks": "",
            "zerolinecolor": "white"
           },
           "zaxis": {
            "backgroundcolor": "#E5ECF6",
            "gridcolor": "white",
            "gridwidth": 2,
            "linecolor": "white",
            "showbackground": true,
            "ticks": "",
            "zerolinecolor": "white"
           }
          },
          "shapedefaults": {
           "line": {
            "color": "#2a3f5f"
           }
          },
          "ternary": {
           "aaxis": {
            "gridcolor": "white",
            "linecolor": "white",
            "ticks": ""
           },
           "baxis": {
            "gridcolor": "white",
            "linecolor": "white",
            "ticks": ""
           },
           "bgcolor": "#E5ECF6",
           "caxis": {
            "gridcolor": "white",
            "linecolor": "white",
            "ticks": ""
           }
          },
          "title": {
           "x": 0.05
          },
          "xaxis": {
           "automargin": true,
           "gridcolor": "white",
           "linecolor": "white",
           "ticks": "",
           "title": {
            "standoff": 15
           },
           "zerolinecolor": "white",
           "zerolinewidth": 2
          },
          "yaxis": {
           "automargin": true,
           "gridcolor": "white",
           "linecolor": "white",
           "ticks": "",
           "title": {
            "standoff": 15
           },
           "zerolinecolor": "white",
           "zerolinewidth": 2
          }
         }
        },
        "xaxis": {
         "anchor": "y",
         "domain": [
          0,
          1
         ],
         "title": {
          "text": "time"
         }
        },
        "yaxis": {
         "anchor": "x",
         "domain": [
          0,
          1
         ],
         "title": {
          "text": "answered_correctly"
         }
        }
       }
      }
     },
     "metadata": {},
     "output_type": "display_data"
    }
   ],
   "source": [
    "# группируем данные по пользователям\n",
    "result = (train.group_by(\n",
    "    pl.col('user_id')\n",
    "# посчитаем необходимые аггрегаты\n",
    ").agg(\n",
    "    # количество строк\n",
    "    pl.col('row_id').count(),\n",
    "    # макимальное значение времени\n",
    "    pl.col('timestamp').max().alias('time'),\n",
    "    # среднее количество правильных ответов\n",
    "    pl.col('answered_correctly').mean(),\n",
    ").filter(\n",
    "    # уберем из выборки результаты с малым количеством строк\n",
    "    pl.col('row_id') > pl.col('row_id').quantile(0.1)\n",
    ").group_by(\n",
    "    # группируем по сглаженному времени\n",
    "    pl.col('time') // 1000000000\n",
    ").agg(\n",
    "    # аггрегируем среднее по правильным ответам\n",
    "    pl.col('answered_correctly').mean()\n",
    ").sort('time')\n",
    "          .collect(streaming=True))\n",
    "\n",
    "# строим график\n",
    "px.line(result, x='time', y='answered_correctly')"
   ]
  },
  {
   "cell_type": "markdown",
   "id": "ccdf064ef1522d91",
   "metadata": {},
   "source": [
    "На графике хороша видна прямая зависимость количества правильных ответов от общего времени."
   ]
  },
  {
   "cell_type": "markdown",
   "id": "ed021ebc56aaa5fd",
   "metadata": {},
   "source": [
    "Посмотрим на зависимость правильных ответов от затраченного на вопрос времени"
   ]
  },
  {
   "cell_type": "code",
   "execution_count": 63,
   "id": "4ea3351820430890",
   "metadata": {
    "ExecuteTime": {
     "end_time": "2024-10-07T21:31:57.583254Z",
     "start_time": "2024-10-07T21:31:49.480990Z"
    }
   },
   "outputs": [
    {
     "data": {
      "application/vnd.plotly.v1+json": {
       "config": {
        "plotlyServerURL": "https://plot.ly"
       },
       "data": [
        {
         "hovertemplate": "time=%{x}<br>answered_correctly=%{y}<extra></extra>",
         "legendgroup": "",
         "line": {
          "color": "#636efa",
          "dash": "solid"
         },
         "marker": {
          "symbol": "circle"
         },
         "mode": "lines",
         "name": "",
         "orientation": "v",
         "showlegend": false,
         "type": "scatter",
         "x": [
          6,
          7,
          8,
          9,
          10,
          11,
          12,
          13,
          14,
          15,
          16,
          17,
          18,
          19,
          20,
          21,
          22,
          23,
          24,
          25,
          26,
          27,
          28,
          29,
          30,
          31,
          32,
          33,
          34,
          35,
          36,
          37,
          38,
          39,
          40,
          41,
          42,
          43,
          44,
          45,
          46,
          47,
          48,
          49,
          50,
          51,
          52,
          53,
          54,
          55,
          56,
          57,
          58
         ],
         "xaxis": "x",
         "y": [
          0.6979935220628444,
          0.6995691115247187,
          0.6990363688040461,
          0.6997082396469355,
          0.6990909489839857,
          0.6995498370786914,
          0.6995180170632643,
          0.700133650126186,
          0.7003661928472479,
          0.6999181737053659,
          0.6997006704103101,
          0.7002161058759813,
          0.6999698987037007,
          0.699638080927787,
          0.6996311495880169,
          0.6998138245104334,
          0.6996672145126733,
          0.6998819991797701,
          0.7000917828055061,
          0.6994200886313224,
          0.7001314465403391,
          0.6993313086348448,
          0.6996098193825563,
          0.6995247805109833,
          0.6999333210322517,
          0.6999229144379712,
          0.7004535008129398,
          0.6992468579525577,
          0.7000027766261694,
          0.6995770073347284,
          0.6993696752671382,
          0.6994747422183917,
          0.6997790719385927,
          0.6998108023284045,
          0.6995136385714651,
          0.7005461869088314,
          0.6998688728622388,
          0.7012336427847855,
          0.7000616059463499,
          0.6998507877099638,
          0.6989647793091122,
          0.6997175393975026,
          0.698901284605719,
          0.6993724284591558,
          0.6997245263289846,
          0.6992810425694208,
          0.7005168367662948,
          0.7003314037943544,
          0.6986081411775604,
          0.7007963780271322,
          0.6993157960375517,
          0.700864524958518,
          0.7014793200063877
         ],
         "yaxis": "y"
        }
       ],
       "layout": {
        "legend": {
         "tracegroupgap": 0
        },
        "margin": {
         "t": 60
        },
        "template": {
         "data": {
          "bar": [
           {
            "error_x": {
             "color": "#2a3f5f"
            },
            "error_y": {
             "color": "#2a3f5f"
            },
            "marker": {
             "line": {
              "color": "#E5ECF6",
              "width": 0.5
             },
             "pattern": {
              "fillmode": "overlay",
              "size": 10,
              "solidity": 0.2
             }
            },
            "type": "bar"
           }
          ],
          "barpolar": [
           {
            "marker": {
             "line": {
              "color": "#E5ECF6",
              "width": 0.5
             },
             "pattern": {
              "fillmode": "overlay",
              "size": 10,
              "solidity": 0.2
             }
            },
            "type": "barpolar"
           }
          ],
          "carpet": [
           {
            "aaxis": {
             "endlinecolor": "#2a3f5f",
             "gridcolor": "white",
             "linecolor": "white",
             "minorgridcolor": "white",
             "startlinecolor": "#2a3f5f"
            },
            "baxis": {
             "endlinecolor": "#2a3f5f",
             "gridcolor": "white",
             "linecolor": "white",
             "minorgridcolor": "white",
             "startlinecolor": "#2a3f5f"
            },
            "type": "carpet"
           }
          ],
          "choropleth": [
           {
            "colorbar": {
             "outlinewidth": 0,
             "ticks": ""
            },
            "type": "choropleth"
           }
          ],
          "contour": [
           {
            "colorbar": {
             "outlinewidth": 0,
             "ticks": ""
            },
            "colorscale": [
             [
              0,
              "#0d0887"
             ],
             [
              0.1111111111111111,
              "#46039f"
             ],
             [
              0.2222222222222222,
              "#7201a8"
             ],
             [
              0.3333333333333333,
              "#9c179e"
             ],
             [
              0.4444444444444444,
              "#bd3786"
             ],
             [
              0.5555555555555556,
              "#d8576b"
             ],
             [
              0.6666666666666666,
              "#ed7953"
             ],
             [
              0.7777777777777778,
              "#fb9f3a"
             ],
             [
              0.8888888888888888,
              "#fdca26"
             ],
             [
              1,
              "#f0f921"
             ]
            ],
            "type": "contour"
           }
          ],
          "contourcarpet": [
           {
            "colorbar": {
             "outlinewidth": 0,
             "ticks": ""
            },
            "type": "contourcarpet"
           }
          ],
          "heatmap": [
           {
            "colorbar": {
             "outlinewidth": 0,
             "ticks": ""
            },
            "colorscale": [
             [
              0,
              "#0d0887"
             ],
             [
              0.1111111111111111,
              "#46039f"
             ],
             [
              0.2222222222222222,
              "#7201a8"
             ],
             [
              0.3333333333333333,
              "#9c179e"
             ],
             [
              0.4444444444444444,
              "#bd3786"
             ],
             [
              0.5555555555555556,
              "#d8576b"
             ],
             [
              0.6666666666666666,
              "#ed7953"
             ],
             [
              0.7777777777777778,
              "#fb9f3a"
             ],
             [
              0.8888888888888888,
              "#fdca26"
             ],
             [
              1,
              "#f0f921"
             ]
            ],
            "type": "heatmap"
           }
          ],
          "heatmapgl": [
           {
            "colorbar": {
             "outlinewidth": 0,
             "ticks": ""
            },
            "colorscale": [
             [
              0,
              "#0d0887"
             ],
             [
              0.1111111111111111,
              "#46039f"
             ],
             [
              0.2222222222222222,
              "#7201a8"
             ],
             [
              0.3333333333333333,
              "#9c179e"
             ],
             [
              0.4444444444444444,
              "#bd3786"
             ],
             [
              0.5555555555555556,
              "#d8576b"
             ],
             [
              0.6666666666666666,
              "#ed7953"
             ],
             [
              0.7777777777777778,
              "#fb9f3a"
             ],
             [
              0.8888888888888888,
              "#fdca26"
             ],
             [
              1,
              "#f0f921"
             ]
            ],
            "type": "heatmapgl"
           }
          ],
          "histogram": [
           {
            "marker": {
             "pattern": {
              "fillmode": "overlay",
              "size": 10,
              "solidity": 0.2
             }
            },
            "type": "histogram"
           }
          ],
          "histogram2d": [
           {
            "colorbar": {
             "outlinewidth": 0,
             "ticks": ""
            },
            "colorscale": [
             [
              0,
              "#0d0887"
             ],
             [
              0.1111111111111111,
              "#46039f"
             ],
             [
              0.2222222222222222,
              "#7201a8"
             ],
             [
              0.3333333333333333,
              "#9c179e"
             ],
             [
              0.4444444444444444,
              "#bd3786"
             ],
             [
              0.5555555555555556,
              "#d8576b"
             ],
             [
              0.6666666666666666,
              "#ed7953"
             ],
             [
              0.7777777777777778,
              "#fb9f3a"
             ],
             [
              0.8888888888888888,
              "#fdca26"
             ],
             [
              1,
              "#f0f921"
             ]
            ],
            "type": "histogram2d"
           }
          ],
          "histogram2dcontour": [
           {
            "colorbar": {
             "outlinewidth": 0,
             "ticks": ""
            },
            "colorscale": [
             [
              0,
              "#0d0887"
             ],
             [
              0.1111111111111111,
              "#46039f"
             ],
             [
              0.2222222222222222,
              "#7201a8"
             ],
             [
              0.3333333333333333,
              "#9c179e"
             ],
             [
              0.4444444444444444,
              "#bd3786"
             ],
             [
              0.5555555555555556,
              "#d8576b"
             ],
             [
              0.6666666666666666,
              "#ed7953"
             ],
             [
              0.7777777777777778,
              "#fb9f3a"
             ],
             [
              0.8888888888888888,
              "#fdca26"
             ],
             [
              1,
              "#f0f921"
             ]
            ],
            "type": "histogram2dcontour"
           }
          ],
          "mesh3d": [
           {
            "colorbar": {
             "outlinewidth": 0,
             "ticks": ""
            },
            "type": "mesh3d"
           }
          ],
          "parcoords": [
           {
            "line": {
             "colorbar": {
              "outlinewidth": 0,
              "ticks": ""
             }
            },
            "type": "parcoords"
           }
          ],
          "pie": [
           {
            "automargin": true,
            "type": "pie"
           }
          ],
          "scatter": [
           {
            "fillpattern": {
             "fillmode": "overlay",
             "size": 10,
             "solidity": 0.2
            },
            "type": "scatter"
           }
          ],
          "scatter3d": [
           {
            "line": {
             "colorbar": {
              "outlinewidth": 0,
              "ticks": ""
             }
            },
            "marker": {
             "colorbar": {
              "outlinewidth": 0,
              "ticks": ""
             }
            },
            "type": "scatter3d"
           }
          ],
          "scattercarpet": [
           {
            "marker": {
             "colorbar": {
              "outlinewidth": 0,
              "ticks": ""
             }
            },
            "type": "scattercarpet"
           }
          ],
          "scattergeo": [
           {
            "marker": {
             "colorbar": {
              "outlinewidth": 0,
              "ticks": ""
             }
            },
            "type": "scattergeo"
           }
          ],
          "scattergl": [
           {
            "marker": {
             "colorbar": {
              "outlinewidth": 0,
              "ticks": ""
             }
            },
            "type": "scattergl"
           }
          ],
          "scattermapbox": [
           {
            "marker": {
             "colorbar": {
              "outlinewidth": 0,
              "ticks": ""
             }
            },
            "type": "scattermapbox"
           }
          ],
          "scatterpolar": [
           {
            "marker": {
             "colorbar": {
              "outlinewidth": 0,
              "ticks": ""
             }
            },
            "type": "scatterpolar"
           }
          ],
          "scatterpolargl": [
           {
            "marker": {
             "colorbar": {
              "outlinewidth": 0,
              "ticks": ""
             }
            },
            "type": "scatterpolargl"
           }
          ],
          "scatterternary": [
           {
            "marker": {
             "colorbar": {
              "outlinewidth": 0,
              "ticks": ""
             }
            },
            "type": "scatterternary"
           }
          ],
          "surface": [
           {
            "colorbar": {
             "outlinewidth": 0,
             "ticks": ""
            },
            "colorscale": [
             [
              0,
              "#0d0887"
             ],
             [
              0.1111111111111111,
              "#46039f"
             ],
             [
              0.2222222222222222,
              "#7201a8"
             ],
             [
              0.3333333333333333,
              "#9c179e"
             ],
             [
              0.4444444444444444,
              "#bd3786"
             ],
             [
              0.5555555555555556,
              "#d8576b"
             ],
             [
              0.6666666666666666,
              "#ed7953"
             ],
             [
              0.7777777777777778,
              "#fb9f3a"
             ],
             [
              0.8888888888888888,
              "#fdca26"
             ],
             [
              1,
              "#f0f921"
             ]
            ],
            "type": "surface"
           }
          ],
          "table": [
           {
            "cells": {
             "fill": {
              "color": "#EBF0F8"
             },
             "line": {
              "color": "white"
             }
            },
            "header": {
             "fill": {
              "color": "#C8D4E3"
             },
             "line": {
              "color": "white"
             }
            },
            "type": "table"
           }
          ]
         },
         "layout": {
          "annotationdefaults": {
           "arrowcolor": "#2a3f5f",
           "arrowhead": 0,
           "arrowwidth": 1
          },
          "autotypenumbers": "strict",
          "coloraxis": {
           "colorbar": {
            "outlinewidth": 0,
            "ticks": ""
           }
          },
          "colorscale": {
           "diverging": [
            [
             0,
             "#8e0152"
            ],
            [
             0.1,
             "#c51b7d"
            ],
            [
             0.2,
             "#de77ae"
            ],
            [
             0.3,
             "#f1b6da"
            ],
            [
             0.4,
             "#fde0ef"
            ],
            [
             0.5,
             "#f7f7f7"
            ],
            [
             0.6,
             "#e6f5d0"
            ],
            [
             0.7,
             "#b8e186"
            ],
            [
             0.8,
             "#7fbc41"
            ],
            [
             0.9,
             "#4d9221"
            ],
            [
             1,
             "#276419"
            ]
           ],
           "sequential": [
            [
             0,
             "#0d0887"
            ],
            [
             0.1111111111111111,
             "#46039f"
            ],
            [
             0.2222222222222222,
             "#7201a8"
            ],
            [
             0.3333333333333333,
             "#9c179e"
            ],
            [
             0.4444444444444444,
             "#bd3786"
            ],
            [
             0.5555555555555556,
             "#d8576b"
            ],
            [
             0.6666666666666666,
             "#ed7953"
            ],
            [
             0.7777777777777778,
             "#fb9f3a"
            ],
            [
             0.8888888888888888,
             "#fdca26"
            ],
            [
             1,
             "#f0f921"
            ]
           ],
           "sequentialminus": [
            [
             0,
             "#0d0887"
            ],
            [
             0.1111111111111111,
             "#46039f"
            ],
            [
             0.2222222222222222,
             "#7201a8"
            ],
            [
             0.3333333333333333,
             "#9c179e"
            ],
            [
             0.4444444444444444,
             "#bd3786"
            ],
            [
             0.5555555555555556,
             "#d8576b"
            ],
            [
             0.6666666666666666,
             "#ed7953"
            ],
            [
             0.7777777777777778,
             "#fb9f3a"
            ],
            [
             0.8888888888888888,
             "#fdca26"
            ],
            [
             1,
             "#f0f921"
            ]
           ]
          },
          "colorway": [
           "#636efa",
           "#EF553B",
           "#00cc96",
           "#ab63fa",
           "#FFA15A",
           "#19d3f3",
           "#FF6692",
           "#B6E880",
           "#FF97FF",
           "#FECB52"
          ],
          "font": {
           "color": "#2a3f5f"
          },
          "geo": {
           "bgcolor": "white",
           "lakecolor": "white",
           "landcolor": "#E5ECF6",
           "showlakes": true,
           "showland": true,
           "subunitcolor": "white"
          },
          "hoverlabel": {
           "align": "left"
          },
          "hovermode": "closest",
          "mapbox": {
           "style": "light"
          },
          "paper_bgcolor": "white",
          "plot_bgcolor": "#E5ECF6",
          "polar": {
           "angularaxis": {
            "gridcolor": "white",
            "linecolor": "white",
            "ticks": ""
           },
           "bgcolor": "#E5ECF6",
           "radialaxis": {
            "gridcolor": "white",
            "linecolor": "white",
            "ticks": ""
           }
          },
          "scene": {
           "xaxis": {
            "backgroundcolor": "#E5ECF6",
            "gridcolor": "white",
            "gridwidth": 2,
            "linecolor": "white",
            "showbackground": true,
            "ticks": "",
            "zerolinecolor": "white"
           },
           "yaxis": {
            "backgroundcolor": "#E5ECF6",
            "gridcolor": "white",
            "gridwidth": 2,
            "linecolor": "white",
            "showbackground": true,
            "ticks": "",
            "zerolinecolor": "white"
           },
           "zaxis": {
            "backgroundcolor": "#E5ECF6",
            "gridcolor": "white",
            "gridwidth": 2,
            "linecolor": "white",
            "showbackground": true,
            "ticks": "",
            "zerolinecolor": "white"
           }
          },
          "shapedefaults": {
           "line": {
            "color": "#2a3f5f"
           }
          },
          "ternary": {
           "aaxis": {
            "gridcolor": "white",
            "linecolor": "white",
            "ticks": ""
           },
           "baxis": {
            "gridcolor": "white",
            "linecolor": "white",
            "ticks": ""
           },
           "bgcolor": "#E5ECF6",
           "caxis": {
            "gridcolor": "white",
            "linecolor": "white",
            "ticks": ""
           }
          },
          "title": {
           "x": 0.05
          },
          "xaxis": {
           "automargin": true,
           "gridcolor": "white",
           "linecolor": "white",
           "ticks": "",
           "title": {
            "standoff": 15
           },
           "zerolinecolor": "white",
           "zerolinewidth": 2
          },
          "yaxis": {
           "automargin": true,
           "gridcolor": "white",
           "linecolor": "white",
           "ticks": "",
           "title": {
            "standoff": 15
           },
           "zerolinecolor": "white",
           "zerolinewidth": 2
          }
         }
        },
        "xaxis": {
         "anchor": "y",
         "domain": [
          0,
          1
         ],
         "title": {
          "text": "time"
         }
        },
        "yaxis": {
         "anchor": "x",
         "domain": [
          0,
          1
         ],
         "title": {
          "text": "answered_correctly"
         }
        }
       }
      }
     },
     "metadata": {},
     "output_type": "display_data"
    }
   ],
   "source": [
    "result = ((train.filter(\n",
    "    # отбросим слишком большие значения времени\n",
    "    (pl.col('prior_question_elapsed_time') < pl.col('prior_question_elapsed_time').quantile(0.95)) &\n",
    "    # отбросим слишком малые значения времени\n",
    "    (pl.col('prior_question_elapsed_time') > pl.col('prior_question_elapsed_time').quantile(0.05))\n",
    ").select(\n",
    "    # для соответствия столбцов делаем сдвиг\n",
    "    pl.col('prior_question_elapsed_time').slice(1, None),\n",
    "    pl.col('answered_correctly').slice(0, pl.col('answered_correctly').count() - 1)\n",
    ").group_by(\n",
    "    # группируем по сглаженному до секунд времени\n",
    "    (pl.col('prior_question_elapsed_time') // 1000).alias('time')\n",
    "# считаем среднее количество правильных ответов\n",
    ").agg(pl.col('answered_correctly').mean()))\n",
    "          .sort(pl.col('time'))\n",
    "          .collect(streaming=True))\n",
    "\n",
    "# строим график\n",
    "px.line(result, x='time', y='answered_correctly')"
   ]
  },
  {
   "attachments": {},
   "cell_type": "markdown",
   "id": "7dcc105608958805",
   "metadata": {},
   "source": [
    "Не видим сильной зависимости от времени ответа, при жирм наблюдается 2 ярко выраженных пика на 43 секундах и 58 секундах."
   ]
  },
  {
   "cell_type": "markdown",
   "id": "fd1c96cdd279604e",
   "metadata": {},
   "source": [
    "Посмотрим на связь с метаданными по вопросам.\n",
    "Сначала подготовим объекты выборки"
   ]
  },
  {
   "cell_type": "code",
   "execution_count": 68,
   "id": "f52af8726010bdf9",
   "metadata": {
    "ExecuteTime": {
     "end_time": "2024-10-07T21:32:03.238838Z",
     "start_time": "2024-10-07T21:32:03.234786Z"
    }
   },
   "outputs": [],
   "source": [
    "# джойним датафрэймы с результатами и метаинформацией\n",
    "quest_joined_q = (train_test.join(questions_data, left_on='content_id', right_on='question_id', how='left'))\n",
    "# в столбце с тэгами данные преобразовываем в список\n",
    "quest_joined_split_q = quest_joined_q.with_columns(\n",
    "    pl.col('tags').str.split(\" \")\n",
    ")"
   ]
  },
  {
   "cell_type": "markdown",
   "id": "cd55bf5be73e76f9",
   "metadata": {},
   "source": [
    "Найдем темы с наибольшим и наименьшим средним количеством правильных ответов."
   ]
  },
  {
   "cell_type": "code",
   "execution_count": 69,
   "id": "414143a123731d18",
   "metadata": {
    "ExecuteTime": {
     "end_time": "2024-10-08T05:36:00.360069Z",
     "start_time": "2024-10-08T05:35:49.125370Z"
    }
   },
   "outputs": [
    {
     "name": "stdout",
     "output_type": "stream",
     "text": [
      "shape: (188, 2)\n",
      "┌─────┬──────────┐\n",
      "│ tag ┆ mean     │\n",
      "│ --- ┆ ---      │\n",
      "│ str ┆ f64      │\n",
      "╞═════╪══════════╡\n",
      "│ 24  ┆ 0.421025 │\n",
      "│ 19  ┆ 0.438666 │\n",
      "│ 23  ┆ 0.467508 │\n",
      "│ 50  ┆ 0.50423  │\n",
      "│ 11  ┆ 0.520857 │\n",
      "│ …   ┆ …        │\n",
      "│ 40  ┆ 0.850398 │\n",
      "│ 149 ┆ 0.874416 │\n",
      "│ 130 ┆ 0.874963 │\n",
      "│ 187 ┆ 0.875299 │\n",
      "│ 68  ┆ 0.89838  │\n",
      "└─────┴──────────┘\n"
     ]
    }
   ],
   "source": [
    "# берем из датафрэйма столбцы с тэгами и правильностью ответов\n",
    "quest_joined_expl_q = (quest_joined_split_q.select(\n",
    "    pl.col('answered_correctly'),\n",
    "    pl.col('tags'),\n",
    "# разбиваем столбец с тэгами на отдельные строки\n",
    ").explode('tags')\n",
    "# группируем по тэгу\n",
    ".group_by(\n",
    "    pl.col('tags').alias('tag')\n",
    ").agg(\n",
    "    # считаем среднее количество правильных ответов\n",
    "    pl.col('answered_correctly').mean().alias('mean'),\n",
    ").drop_nulls()\n",
    "# и сортируем по нему\n",
    ".sort('mean'))\n",
    "\n",
    "print(quest_joined_expl_q.collect(streaming=True))\n"
   ]
  },
  {
   "attachments": {},
   "cell_type": "markdown",
   "id": "1d3f0eb9f39deb09",
   "metadata": {},
   "source": [
    "Видим, что на вопросы с тэгом=24 получено всего 42.1% правильных ответов, а на вопросы с тэгом=68 более 89.8%"
   ]
  },
  {
   "cell_type": "markdown",
   "id": "8a02ab5b75c5728b",
   "metadata": {},
   "source": [
    "Теперь посмотрим на такую же статистику по разделам."
   ]
  },
  {
   "cell_type": "code",
   "execution_count": 70,
   "id": "2c84fd6551bc258c",
   "metadata": {
    "ExecuteTime": {
     "end_time": "2024-10-09T20:29:01.916394Z",
     "start_time": "2024-10-09T20:28:55.733212Z"
    }
   },
   "outputs": [
    {
     "name": "stdout",
     "output_type": "stream",
     "text": [
      "shape: (7, 2)\n",
      "┌──────┬──────────┐\n",
      "│ part ┆ mean     │\n",
      "│ ---  ┆ ---      │\n",
      "│ i64  ┆ f64      │\n",
      "╞══════╪══════════╡\n",
      "│ 4    ┆ 0.638425 │\n",
      "│ 5    ┆ 0.659624 │\n",
      "│ 7    ┆ 0.660839 │\n",
      "│ 6    ┆ 0.679117 │\n",
      "│ 3    ┆ 0.71614  │\n",
      "│ 2    ┆ 0.769356 │\n",
      "│ 1    ┆ 0.782284 │\n",
      "└──────┴──────────┘\n"
     ]
    }
   ],
   "source": [
    "# берем из датафрэйма столбцы с темами и правильностью ответов\n",
    "quest_joined_expl_q = (quest_joined_split_q.select(\n",
    "    pl.col('answered_correctly'),\n",
    "    pl.col('part'),\n",
    "# группируем по разделу\n",
    ").group_by(\n",
    "    pl.col('part')\n",
    ").agg(\n",
    "    # считаем среднее количество правильных ответов\n",
    "    pl.col('answered_correctly').mean().alias('mean'),\n",
    ").drop_nulls()\n",
    "                       # и сортируем по нему\n",
    "                       .sort('mean'))\n",
    "\n",
    "print(quest_joined_expl_q.collect(streaming=True))"
   ]
  },
  {
   "attachments": {},
   "cell_type": "markdown",
   "id": "e7efe549f873522f",
   "metadata": {},
   "source": [
    "Видим, что на вопросы с темой=5 получено 63.8% правильных ответов, а на вопросы с темой=1 более 78.2%\n"
   ]
  },
  {
   "cell_type": "code",
   "execution_count": 39,
   "id": "3dac42ce815c5feb",
   "metadata": {
    "ExecuteTime": {
     "end_time": "2024-10-09T22:38:49.743311Z",
     "start_time": "2024-10-09T22:38:43.324046Z"
    }
   },
   "outputs": [
    {
     "name": "stdout",
     "output_type": "stream",
     "text": [
      "shape: (27, 2)\n",
      "┌──────────┬───────────┐\n",
      "│ lectures ┆ correct_% │\n",
      "│ ---      ┆ ---       │\n",
      "│ u32      ┆ f64       │\n",
      "╞══════════╪═══════════╡\n",
      "│ 0        ┆ 51.087413 │\n",
      "│ 1        ┆ 59.436572 │\n",
      "│ 2        ┆ 62.151852 │\n",
      "│ 3        ┆ 64.122743 │\n",
      "│ 4        ┆ 65.164636 │\n",
      "│ …        ┆ …         │\n",
      "│ 22       ┆ 69.97873  │\n",
      "│ 23       ┆ 69.712456 │\n",
      "│ 24       ┆ 69.760721 │\n",
      "│ 25       ┆ 70.56992  │\n",
      "│ 26       ┆ 70.248633 │\n",
      "└──────────┴───────────┘\n"
     ]
    },
    {
     "data": {
      "application/vnd.plotly.v1+json": {
       "config": {
        "plotlyServerURL": "https://plot.ly"
       },
       "data": [
        {
         "hovertemplate": "lectures=%{x}<br>correct_%=%{y}<extra></extra>",
         "legendgroup": "",
         "line": {
          "color": "#636efa",
          "dash": "solid"
         },
         "marker": {
          "symbol": "circle"
         },
         "mode": "lines",
         "name": "",
         "orientation": "v",
         "showlegend": false,
         "type": "scatter",
         "x": [
          0,
          1,
          2,
          3,
          4,
          5,
          6,
          7,
          8,
          9,
          10,
          11,
          12,
          13,
          14,
          15,
          16,
          17,
          18,
          19,
          20,
          21,
          22,
          23,
          24,
          25,
          26
         ],
         "xaxis": "x",
         "y": [
          51.08741346181485,
          59.43657167531007,
          62.151851953002826,
          64.12274302659672,
          65.1646357726664,
          66.12019817460559,
          66.7571426331365,
          67.47436282540593,
          67.84237088836775,
          68.24990615277125,
          68.50070511603512,
          68.43028559803707,
          68.90367392410734,
          68.77504958162297,
          69.02003862088786,
          69.16236187761366,
          69.35458953591635,
          69.25884778703632,
          69.56333333000688,
          69.16330030829131,
          69.6446058734519,
          69.15593511625251,
          69.97872990831992,
          69.7124558739398,
          69.76072132045319,
          70.56991962904358,
          70.24863342947319
         ],
         "yaxis": "y"
        }
       ],
       "layout": {
        "legend": {
         "tracegroupgap": 0
        },
        "margin": {
         "t": 60
        },
        "template": {
         "data": {
          "bar": [
           {
            "error_x": {
             "color": "#2a3f5f"
            },
            "error_y": {
             "color": "#2a3f5f"
            },
            "marker": {
             "line": {
              "color": "#E5ECF6",
              "width": 0.5
             },
             "pattern": {
              "fillmode": "overlay",
              "size": 10,
              "solidity": 0.2
             }
            },
            "type": "bar"
           }
          ],
          "barpolar": [
           {
            "marker": {
             "line": {
              "color": "#E5ECF6",
              "width": 0.5
             },
             "pattern": {
              "fillmode": "overlay",
              "size": 10,
              "solidity": 0.2
             }
            },
            "type": "barpolar"
           }
          ],
          "carpet": [
           {
            "aaxis": {
             "endlinecolor": "#2a3f5f",
             "gridcolor": "white",
             "linecolor": "white",
             "minorgridcolor": "white",
             "startlinecolor": "#2a3f5f"
            },
            "baxis": {
             "endlinecolor": "#2a3f5f",
             "gridcolor": "white",
             "linecolor": "white",
             "minorgridcolor": "white",
             "startlinecolor": "#2a3f5f"
            },
            "type": "carpet"
           }
          ],
          "choropleth": [
           {
            "colorbar": {
             "outlinewidth": 0,
             "ticks": ""
            },
            "type": "choropleth"
           }
          ],
          "contour": [
           {
            "colorbar": {
             "outlinewidth": 0,
             "ticks": ""
            },
            "colorscale": [
             [
              0,
              "#0d0887"
             ],
             [
              0.1111111111111111,
              "#46039f"
             ],
             [
              0.2222222222222222,
              "#7201a8"
             ],
             [
              0.3333333333333333,
              "#9c179e"
             ],
             [
              0.4444444444444444,
              "#bd3786"
             ],
             [
              0.5555555555555556,
              "#d8576b"
             ],
             [
              0.6666666666666666,
              "#ed7953"
             ],
             [
              0.7777777777777778,
              "#fb9f3a"
             ],
             [
              0.8888888888888888,
              "#fdca26"
             ],
             [
              1,
              "#f0f921"
             ]
            ],
            "type": "contour"
           }
          ],
          "contourcarpet": [
           {
            "colorbar": {
             "outlinewidth": 0,
             "ticks": ""
            },
            "type": "contourcarpet"
           }
          ],
          "heatmap": [
           {
            "colorbar": {
             "outlinewidth": 0,
             "ticks": ""
            },
            "colorscale": [
             [
              0,
              "#0d0887"
             ],
             [
              0.1111111111111111,
              "#46039f"
             ],
             [
              0.2222222222222222,
              "#7201a8"
             ],
             [
              0.3333333333333333,
              "#9c179e"
             ],
             [
              0.4444444444444444,
              "#bd3786"
             ],
             [
              0.5555555555555556,
              "#d8576b"
             ],
             [
              0.6666666666666666,
              "#ed7953"
             ],
             [
              0.7777777777777778,
              "#fb9f3a"
             ],
             [
              0.8888888888888888,
              "#fdca26"
             ],
             [
              1,
              "#f0f921"
             ]
            ],
            "type": "heatmap"
           }
          ],
          "heatmapgl": [
           {
            "colorbar": {
             "outlinewidth": 0,
             "ticks": ""
            },
            "colorscale": [
             [
              0,
              "#0d0887"
             ],
             [
              0.1111111111111111,
              "#46039f"
             ],
             [
              0.2222222222222222,
              "#7201a8"
             ],
             [
              0.3333333333333333,
              "#9c179e"
             ],
             [
              0.4444444444444444,
              "#bd3786"
             ],
             [
              0.5555555555555556,
              "#d8576b"
             ],
             [
              0.6666666666666666,
              "#ed7953"
             ],
             [
              0.7777777777777778,
              "#fb9f3a"
             ],
             [
              0.8888888888888888,
              "#fdca26"
             ],
             [
              1,
              "#f0f921"
             ]
            ],
            "type": "heatmapgl"
           }
          ],
          "histogram": [
           {
            "marker": {
             "pattern": {
              "fillmode": "overlay",
              "size": 10,
              "solidity": 0.2
             }
            },
            "type": "histogram"
           }
          ],
          "histogram2d": [
           {
            "colorbar": {
             "outlinewidth": 0,
             "ticks": ""
            },
            "colorscale": [
             [
              0,
              "#0d0887"
             ],
             [
              0.1111111111111111,
              "#46039f"
             ],
             [
              0.2222222222222222,
              "#7201a8"
             ],
             [
              0.3333333333333333,
              "#9c179e"
             ],
             [
              0.4444444444444444,
              "#bd3786"
             ],
             [
              0.5555555555555556,
              "#d8576b"
             ],
             [
              0.6666666666666666,
              "#ed7953"
             ],
             [
              0.7777777777777778,
              "#fb9f3a"
             ],
             [
              0.8888888888888888,
              "#fdca26"
             ],
             [
              1,
              "#f0f921"
             ]
            ],
            "type": "histogram2d"
           }
          ],
          "histogram2dcontour": [
           {
            "colorbar": {
             "outlinewidth": 0,
             "ticks": ""
            },
            "colorscale": [
             [
              0,
              "#0d0887"
             ],
             [
              0.1111111111111111,
              "#46039f"
             ],
             [
              0.2222222222222222,
              "#7201a8"
             ],
             [
              0.3333333333333333,
              "#9c179e"
             ],
             [
              0.4444444444444444,
              "#bd3786"
             ],
             [
              0.5555555555555556,
              "#d8576b"
             ],
             [
              0.6666666666666666,
              "#ed7953"
             ],
             [
              0.7777777777777778,
              "#fb9f3a"
             ],
             [
              0.8888888888888888,
              "#fdca26"
             ],
             [
              1,
              "#f0f921"
             ]
            ],
            "type": "histogram2dcontour"
           }
          ],
          "mesh3d": [
           {
            "colorbar": {
             "outlinewidth": 0,
             "ticks": ""
            },
            "type": "mesh3d"
           }
          ],
          "parcoords": [
           {
            "line": {
             "colorbar": {
              "outlinewidth": 0,
              "ticks": ""
             }
            },
            "type": "parcoords"
           }
          ],
          "pie": [
           {
            "automargin": true,
            "type": "pie"
           }
          ],
          "scatter": [
           {
            "fillpattern": {
             "fillmode": "overlay",
             "size": 10,
             "solidity": 0.2
            },
            "type": "scatter"
           }
          ],
          "scatter3d": [
           {
            "line": {
             "colorbar": {
              "outlinewidth": 0,
              "ticks": ""
             }
            },
            "marker": {
             "colorbar": {
              "outlinewidth": 0,
              "ticks": ""
             }
            },
            "type": "scatter3d"
           }
          ],
          "scattercarpet": [
           {
            "marker": {
             "colorbar": {
              "outlinewidth": 0,
              "ticks": ""
             }
            },
            "type": "scattercarpet"
           }
          ],
          "scattergeo": [
           {
            "marker": {
             "colorbar": {
              "outlinewidth": 0,
              "ticks": ""
             }
            },
            "type": "scattergeo"
           }
          ],
          "scattergl": [
           {
            "marker": {
             "colorbar": {
              "outlinewidth": 0,
              "ticks": ""
             }
            },
            "type": "scattergl"
           }
          ],
          "scattermapbox": [
           {
            "marker": {
             "colorbar": {
              "outlinewidth": 0,
              "ticks": ""
             }
            },
            "type": "scattermapbox"
           }
          ],
          "scatterpolar": [
           {
            "marker": {
             "colorbar": {
              "outlinewidth": 0,
              "ticks": ""
             }
            },
            "type": "scatterpolar"
           }
          ],
          "scatterpolargl": [
           {
            "marker": {
             "colorbar": {
              "outlinewidth": 0,
              "ticks": ""
             }
            },
            "type": "scatterpolargl"
           }
          ],
          "scatterternary": [
           {
            "marker": {
             "colorbar": {
              "outlinewidth": 0,
              "ticks": ""
             }
            },
            "type": "scatterternary"
           }
          ],
          "surface": [
           {
            "colorbar": {
             "outlinewidth": 0,
             "ticks": ""
            },
            "colorscale": [
             [
              0,
              "#0d0887"
             ],
             [
              0.1111111111111111,
              "#46039f"
             ],
             [
              0.2222222222222222,
              "#7201a8"
             ],
             [
              0.3333333333333333,
              "#9c179e"
             ],
             [
              0.4444444444444444,
              "#bd3786"
             ],
             [
              0.5555555555555556,
              "#d8576b"
             ],
             [
              0.6666666666666666,
              "#ed7953"
             ],
             [
              0.7777777777777778,
              "#fb9f3a"
             ],
             [
              0.8888888888888888,
              "#fdca26"
             ],
             [
              1,
              "#f0f921"
             ]
            ],
            "type": "surface"
           }
          ],
          "table": [
           {
            "cells": {
             "fill": {
              "color": "#EBF0F8"
             },
             "line": {
              "color": "white"
             }
            },
            "header": {
             "fill": {
              "color": "#C8D4E3"
             },
             "line": {
              "color": "white"
             }
            },
            "type": "table"
           }
          ]
         },
         "layout": {
          "annotationdefaults": {
           "arrowcolor": "#2a3f5f",
           "arrowhead": 0,
           "arrowwidth": 1
          },
          "autotypenumbers": "strict",
          "coloraxis": {
           "colorbar": {
            "outlinewidth": 0,
            "ticks": ""
           }
          },
          "colorscale": {
           "diverging": [
            [
             0,
             "#8e0152"
            ],
            [
             0.1,
             "#c51b7d"
            ],
            [
             0.2,
             "#de77ae"
            ],
            [
             0.3,
             "#f1b6da"
            ],
            [
             0.4,
             "#fde0ef"
            ],
            [
             0.5,
             "#f7f7f7"
            ],
            [
             0.6,
             "#e6f5d0"
            ],
            [
             0.7,
             "#b8e186"
            ],
            [
             0.8,
             "#7fbc41"
            ],
            [
             0.9,
             "#4d9221"
            ],
            [
             1,
             "#276419"
            ]
           ],
           "sequential": [
            [
             0,
             "#0d0887"
            ],
            [
             0.1111111111111111,
             "#46039f"
            ],
            [
             0.2222222222222222,
             "#7201a8"
            ],
            [
             0.3333333333333333,
             "#9c179e"
            ],
            [
             0.4444444444444444,
             "#bd3786"
            ],
            [
             0.5555555555555556,
             "#d8576b"
            ],
            [
             0.6666666666666666,
             "#ed7953"
            ],
            [
             0.7777777777777778,
             "#fb9f3a"
            ],
            [
             0.8888888888888888,
             "#fdca26"
            ],
            [
             1,
             "#f0f921"
            ]
           ],
           "sequentialminus": [
            [
             0,
             "#0d0887"
            ],
            [
             0.1111111111111111,
             "#46039f"
            ],
            [
             0.2222222222222222,
             "#7201a8"
            ],
            [
             0.3333333333333333,
             "#9c179e"
            ],
            [
             0.4444444444444444,
             "#bd3786"
            ],
            [
             0.5555555555555556,
             "#d8576b"
            ],
            [
             0.6666666666666666,
             "#ed7953"
            ],
            [
             0.7777777777777778,
             "#fb9f3a"
            ],
            [
             0.8888888888888888,
             "#fdca26"
            ],
            [
             1,
             "#f0f921"
            ]
           ]
          },
          "colorway": [
           "#636efa",
           "#EF553B",
           "#00cc96",
           "#ab63fa",
           "#FFA15A",
           "#19d3f3",
           "#FF6692",
           "#B6E880",
           "#FF97FF",
           "#FECB52"
          ],
          "font": {
           "color": "#2a3f5f"
          },
          "geo": {
           "bgcolor": "white",
           "lakecolor": "white",
           "landcolor": "#E5ECF6",
           "showlakes": true,
           "showland": true,
           "subunitcolor": "white"
          },
          "hoverlabel": {
           "align": "left"
          },
          "hovermode": "closest",
          "mapbox": {
           "style": "light"
          },
          "paper_bgcolor": "white",
          "plot_bgcolor": "#E5ECF6",
          "polar": {
           "angularaxis": {
            "gridcolor": "white",
            "linecolor": "white",
            "ticks": ""
           },
           "bgcolor": "#E5ECF6",
           "radialaxis": {
            "gridcolor": "white",
            "linecolor": "white",
            "ticks": ""
           }
          },
          "scene": {
           "xaxis": {
            "backgroundcolor": "#E5ECF6",
            "gridcolor": "white",
            "gridwidth": 2,
            "linecolor": "white",
            "showbackground": true,
            "ticks": "",
            "zerolinecolor": "white"
           },
           "yaxis": {
            "backgroundcolor": "#E5ECF6",
            "gridcolor": "white",
            "gridwidth": 2,
            "linecolor": "white",
            "showbackground": true,
            "ticks": "",
            "zerolinecolor": "white"
           },
           "zaxis": {
            "backgroundcolor": "#E5ECF6",
            "gridcolor": "white",
            "gridwidth": 2,
            "linecolor": "white",
            "showbackground": true,
            "ticks": "",
            "zerolinecolor": "white"
           }
          },
          "shapedefaults": {
           "line": {
            "color": "#2a3f5f"
           }
          },
          "ternary": {
           "aaxis": {
            "gridcolor": "white",
            "linecolor": "white",
            "ticks": ""
           },
           "baxis": {
            "gridcolor": "white",
            "linecolor": "white",
            "ticks": ""
           },
           "bgcolor": "#E5ECF6",
           "caxis": {
            "gridcolor": "white",
            "linecolor": "white",
            "ticks": ""
           }
          },
          "title": {
           "x": 0.05
          },
          "xaxis": {
           "automargin": true,
           "gridcolor": "white",
           "linecolor": "white",
           "ticks": "",
           "title": {
            "standoff": 15
           },
           "zerolinecolor": "white",
           "zerolinewidth": 2
          },
          "yaxis": {
           "automargin": true,
           "gridcolor": "white",
           "linecolor": "white",
           "ticks": "",
           "title": {
            "standoff": 15
           },
           "zerolinecolor": "white",
           "zerolinewidth": 2
          }
         }
        },
        "xaxis": {
         "anchor": "y",
         "domain": [
          0,
          1
         ],
         "title": {
          "text": "lectures"
         }
        },
        "yaxis": {
         "anchor": "x",
         "domain": [
          0,
          1
         ],
         "title": {
          "text": "correct_%"
         }
        }
       }
      }
     },
     "metadata": {},
     "output_type": "display_data"
    }
   ],
   "source": [
    "# группируем данные по пользователям\n",
    "result = (train.group_by('user_id')\n",
    "     # посчитаем необходимые аггрегаты\n",
    ".agg(\n",
    "    # количество строк\n",
    "    pl.col('row_id').count().alias('rows'),\n",
    "    # количество лекций\n",
    "    (pl.col('content_type_id') == 1).sum().alias('lectures'),\n",
    "    # количество вопросов\n",
    "    (pl.col('content_type_id') == 0).sum().alias('questions'),\n",
    "    # количество правильных ответов\n",
    "    (pl.col('answered_correctly') == 1).sum().alias('correct'),\n",
    ").filter(\n",
    "    # уберем из выборки результаты с малым количеством строк\n",
    "    (pl.col('rows') > pl.col('rows').quantile(0.1)) &\n",
    "    # Отсечем выбросы с количеством лекций\n",
    "    (pl.col('lectures') < pl.col('lectures').quantile(0.95))\n",
    "# отбираем колонки для дальнейшего анализа\n",
    ").select(\n",
    "    # количество лекций\n",
    "    pl.col('lectures'),\n",
    "    # считаем процент правильных ответов\n",
    "    (pl.col('correct') / pl.col('questions') * 100).alias('correct_%')\n",
    ").group_by(\n",
    "    # группируем по количеству лекций\n",
    "    pl.col('lectures')\n",
    ").agg(\n",
    "    # аггрегируем среднее по правильным ответам\n",
    "    pl.col('correct_%').mean()\n",
    ").sort('lectures')\n",
    "          .collect(streaming=True))\n",
    "# строим график\n",
    "print(result)\n",
    "px.line(result, x='lectures', y='correct_%')"
   ]
  },
  {
   "attachments": {},
   "cell_type": "markdown",
   "id": "2b69daff21b4beb8",
   "metadata": {},
   "source": [
    "На графике хорошо видна прямая зависимость оценки от количества посещенных лекций, при этом после 10 лекций процент успешных оценок растёт не существенно. Стремительный же рост виден уже после первой лекции."
   ]
  }
 ],
 "metadata": {
  "kernelspec": {
   "display_name": "base",
   "language": "python",
   "name": "python3"
  },
  "language_info": {
   "codemirror_mode": {
    "name": "ipython",
    "version": 3
   },
   "file_extension": ".py",
   "mimetype": "text/x-python",
   "name": "python",
   "nbconvert_exporter": "python",
   "pygments_lexer": "ipython3",
   "version": "3.10.12"
  }
 },
 "nbformat": 4,
 "nbformat_minor": 5
}
